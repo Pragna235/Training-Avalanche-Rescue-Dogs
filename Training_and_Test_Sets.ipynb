{
  "nbformat": 4,
  "nbformat_minor": 0,
  "metadata": {
    "colab": {
      "provenance": [],
      "authorship_tag": "ABX9TyPcHuxkmxrDitJYIGYQaX3i",
      "include_colab_link": true
    },
    "kernelspec": {
      "name": "python3",
      "display_name": "Python 3"
    },
    "language_info": {
      "name": "python"
    }
  },
  "cells": [
    {
      "cell_type": "markdown",
      "metadata": {
        "id": "view-in-github",
        "colab_type": "text"
      },
      "source": [
        "<a href=\"https://colab.research.google.com/github/Pragna235/Training-Avalanche-Rescue-Dogs/blob/main/Training_and_Test_Sets.ipynb\" target=\"_parent\"><img src=\"https://colab.research.google.com/assets/colab-badge.svg\" alt=\"Open In Colab\"/></a>"
      ]
    },
    {
      "cell_type": "markdown",
      "source": [
        "# Training and test sets\n",
        "\n",
        "We've seen previously how to fit a model to a dataset. In this exercise, we'll be looking at how to check and confirm the validity and performance of our models by using training and testing sets.\n",
        "As usual, we begin by loading in and having a look at our data:"
      ],
      "metadata": {
        "id": "Xi2rvxLG5sT_"
      }
    },
    {
      "cell_type": "code",
      "execution_count": 2,
      "metadata": {
        "id": "TQBkFcCU5jnH",
        "colab": {
          "base_uri": "https://localhost:8080/",
          "height": 995
        },
        "outputId": "78606c27-6c51-4192-8ec8-7290ac14abee"
      },
      "outputs": [
        {
          "output_type": "stream",
          "name": "stdout",
          "text": [
            "Requirement already satisfied: statsmodels in /usr/local/lib/python3.10/dist-packages (0.13.5)\n",
            "Requirement already satisfied: pandas>=0.25 in /usr/local/lib/python3.10/dist-packages (from statsmodels) (1.5.3)\n",
            "Requirement already satisfied: patsy>=0.5.2 in /usr/local/lib/python3.10/dist-packages (from statsmodels) (0.5.3)\n",
            "Requirement already satisfied: packaging>=21.3 in /usr/local/lib/python3.10/dist-packages (from statsmodels) (23.1)\n",
            "Requirement already satisfied: scipy>=1.3 in /usr/local/lib/python3.10/dist-packages (from statsmodels) (1.10.1)\n",
            "Requirement already satisfied: numpy>=1.17 in /usr/local/lib/python3.10/dist-packages (from statsmodels) (1.22.4)\n",
            "Requirement already satisfied: python-dateutil>=2.8.1 in /usr/local/lib/python3.10/dist-packages (from pandas>=0.25->statsmodels) (2.8.2)\n",
            "Requirement already satisfied: pytz>=2020.1 in /usr/local/lib/python3.10/dist-packages (from pandas>=0.25->statsmodels) (2022.7.1)\n",
            "Requirement already satisfied: six in /usr/local/lib/python3.10/dist-packages (from patsy>=0.5.2->statsmodels) (1.16.0)\n",
            "--2023-08-06 03:32:12--  https://raw.githubusercontent.com/MicrosoftDocs/mslearn-introduction-to-machine-learning/main/graphing.py\n",
            "Resolving raw.githubusercontent.com (raw.githubusercontent.com)... 185.199.108.133, 185.199.109.133, 185.199.110.133, ...\n",
            "Connecting to raw.githubusercontent.com (raw.githubusercontent.com)|185.199.108.133|:443... connected.\n",
            "HTTP request sent, awaiting response... 200 OK\n",
            "Length: 21511 (21K) [text/plain]\n",
            "Saving to: ‘graphing.py.1’\n",
            "\n",
            "graphing.py.1       100%[===================>]  21.01K  --.-KB/s    in 0s      \n",
            "\n",
            "2023-08-06 03:32:12 (97.6 MB/s) - ‘graphing.py.1’ saved [21511/21511]\n",
            "\n",
            "--2023-08-06 03:32:12--  https://raw.githubusercontent.com/MicrosoftDocs/mslearn-introduction-to-machine-learning/main/Data/dog-training.csv\n",
            "Resolving raw.githubusercontent.com (raw.githubusercontent.com)... 185.199.108.133, 185.199.109.133, 185.199.110.133, ...\n",
            "Connecting to raw.githubusercontent.com (raw.githubusercontent.com)|185.199.108.133|:443... connected.\n",
            "HTTP request sent, awaiting response... 200 OK\n",
            "Length: 974 [text/plain]\n",
            "Saving to: ‘dog-training.csv.1’\n",
            "\n",
            "dog-training.csv.1  100%[===================>]     974  --.-KB/s    in 0s      \n",
            "\n",
            "2023-08-06 03:32:12 (91.2 MB/s) - ‘dog-training.csv.1’ saved [974/974]\n",
            "\n",
            "--2023-08-06 03:32:12--  https://raw.githubusercontent.com/MicrosoftDocs/mslearn-introduction-to-machine-learning/main/Data/dog-training-switzerland.csv\n",
            "Resolving raw.githubusercontent.com (raw.githubusercontent.com)... 185.199.108.133, 185.199.109.133, 185.199.110.133, ...\n",
            "Connecting to raw.githubusercontent.com (raw.githubusercontent.com)|185.199.108.133|:443... connected.\n",
            "HTTP request sent, awaiting response... 200 OK\n",
            "Length: 12362 (12K) [text/plain]\n",
            "Saving to: ‘dog-training-switzerland.csv.1’\n",
            "\n",
            "dog-training-switze 100%[===================>]  12.07K  --.-KB/s    in 0s      \n",
            "\n",
            "2023-08-06 03:32:12 (124 MB/s) - ‘dog-training-switzerland.csv.1’ saved [12362/12362]\n",
            "\n",
            "(50, 5)\n"
          ]
        },
        {
          "output_type": "execute_result",
          "data": {
            "text/plain": [
              "   month_old_when_trained  mean_rescues_per_year  age_last_year  \\\n",
              "0                      68                   21.1              9   \n",
              "1                      53                   14.9              5   \n",
              "2                      41                   20.5              6   \n",
              "3                       3                   19.4              1   \n",
              "4                       4                   24.9              4   \n",
              "\n",
              "   weight_last_year  rescues_last_year  \n",
              "0              14.5                 35  \n",
              "1              14.0                 30  \n",
              "2              17.7                 34  \n",
              "3              13.7                 29  \n",
              "4              18.4                 30  "
            ],
            "text/html": [
              "\n",
              "\n",
              "  <div id=\"df-8f74e4ae-bf69-4de3-8849-52f52150dbdf\">\n",
              "    <div class=\"colab-df-container\">\n",
              "      <div>\n",
              "<style scoped>\n",
              "    .dataframe tbody tr th:only-of-type {\n",
              "        vertical-align: middle;\n",
              "    }\n",
              "\n",
              "    .dataframe tbody tr th {\n",
              "        vertical-align: top;\n",
              "    }\n",
              "\n",
              "    .dataframe thead th {\n",
              "        text-align: right;\n",
              "    }\n",
              "</style>\n",
              "<table border=\"1\" class=\"dataframe\">\n",
              "  <thead>\n",
              "    <tr style=\"text-align: right;\">\n",
              "      <th></th>\n",
              "      <th>month_old_when_trained</th>\n",
              "      <th>mean_rescues_per_year</th>\n",
              "      <th>age_last_year</th>\n",
              "      <th>weight_last_year</th>\n",
              "      <th>rescues_last_year</th>\n",
              "    </tr>\n",
              "  </thead>\n",
              "  <tbody>\n",
              "    <tr>\n",
              "      <th>0</th>\n",
              "      <td>68</td>\n",
              "      <td>21.1</td>\n",
              "      <td>9</td>\n",
              "      <td>14.5</td>\n",
              "      <td>35</td>\n",
              "    </tr>\n",
              "    <tr>\n",
              "      <th>1</th>\n",
              "      <td>53</td>\n",
              "      <td>14.9</td>\n",
              "      <td>5</td>\n",
              "      <td>14.0</td>\n",
              "      <td>30</td>\n",
              "    </tr>\n",
              "    <tr>\n",
              "      <th>2</th>\n",
              "      <td>41</td>\n",
              "      <td>20.5</td>\n",
              "      <td>6</td>\n",
              "      <td>17.7</td>\n",
              "      <td>34</td>\n",
              "    </tr>\n",
              "    <tr>\n",
              "      <th>3</th>\n",
              "      <td>3</td>\n",
              "      <td>19.4</td>\n",
              "      <td>1</td>\n",
              "      <td>13.7</td>\n",
              "      <td>29</td>\n",
              "    </tr>\n",
              "    <tr>\n",
              "      <th>4</th>\n",
              "      <td>4</td>\n",
              "      <td>24.9</td>\n",
              "      <td>4</td>\n",
              "      <td>18.4</td>\n",
              "      <td>30</td>\n",
              "    </tr>\n",
              "  </tbody>\n",
              "</table>\n",
              "</div>\n",
              "      <button class=\"colab-df-convert\" onclick=\"convertToInteractive('df-8f74e4ae-bf69-4de3-8849-52f52150dbdf')\"\n",
              "              title=\"Convert this dataframe to an interactive table.\"\n",
              "              style=\"display:none;\">\n",
              "\n",
              "  <svg xmlns=\"http://www.w3.org/2000/svg\" height=\"24px\"viewBox=\"0 0 24 24\"\n",
              "       width=\"24px\">\n",
              "    <path d=\"M0 0h24v24H0V0z\" fill=\"none\"/>\n",
              "    <path d=\"M18.56 5.44l.94 2.06.94-2.06 2.06-.94-2.06-.94-.94-2.06-.94 2.06-2.06.94zm-11 1L8.5 8.5l.94-2.06 2.06-.94-2.06-.94L8.5 2.5l-.94 2.06-2.06.94zm10 10l.94 2.06.94-2.06 2.06-.94-2.06-.94-.94-2.06-.94 2.06-2.06.94z\"/><path d=\"M17.41 7.96l-1.37-1.37c-.4-.4-.92-.59-1.43-.59-.52 0-1.04.2-1.43.59L10.3 9.45l-7.72 7.72c-.78.78-.78 2.05 0 2.83L4 21.41c.39.39.9.59 1.41.59.51 0 1.02-.2 1.41-.59l7.78-7.78 2.81-2.81c.8-.78.8-2.07 0-2.86zM5.41 20L4 18.59l7.72-7.72 1.47 1.35L5.41 20z\"/>\n",
              "  </svg>\n",
              "      </button>\n",
              "\n",
              "\n",
              "\n",
              "    <div id=\"df-4e418e83-ba1d-46c0-bdfb-55e17b3c9a0f\">\n",
              "      <button class=\"colab-df-quickchart\" onclick=\"quickchart('df-4e418e83-ba1d-46c0-bdfb-55e17b3c9a0f')\"\n",
              "              title=\"Suggest charts.\"\n",
              "              style=\"display:none;\">\n",
              "\n",
              "<svg xmlns=\"http://www.w3.org/2000/svg\" height=\"24px\"viewBox=\"0 0 24 24\"\n",
              "     width=\"24px\">\n",
              "    <g>\n",
              "        <path d=\"M19 3H5c-1.1 0-2 .9-2 2v14c0 1.1.9 2 2 2h14c1.1 0 2-.9 2-2V5c0-1.1-.9-2-2-2zM9 17H7v-7h2v7zm4 0h-2V7h2v10zm4 0h-2v-4h2v4z\"/>\n",
              "    </g>\n",
              "</svg>\n",
              "      </button>\n",
              "    </div>\n",
              "\n",
              "<style>\n",
              "  .colab-df-quickchart {\n",
              "    background-color: #E8F0FE;\n",
              "    border: none;\n",
              "    border-radius: 50%;\n",
              "    cursor: pointer;\n",
              "    display: none;\n",
              "    fill: #1967D2;\n",
              "    height: 32px;\n",
              "    padding: 0 0 0 0;\n",
              "    width: 32px;\n",
              "  }\n",
              "\n",
              "  .colab-df-quickchart:hover {\n",
              "    background-color: #E2EBFA;\n",
              "    box-shadow: 0px 1px 2px rgba(60, 64, 67, 0.3), 0px 1px 3px 1px rgba(60, 64, 67, 0.15);\n",
              "    fill: #174EA6;\n",
              "  }\n",
              "\n",
              "  [theme=dark] .colab-df-quickchart {\n",
              "    background-color: #3B4455;\n",
              "    fill: #D2E3FC;\n",
              "  }\n",
              "\n",
              "  [theme=dark] .colab-df-quickchart:hover {\n",
              "    background-color: #434B5C;\n",
              "    box-shadow: 0px 1px 3px 1px rgba(0, 0, 0, 0.15);\n",
              "    filter: drop-shadow(0px 1px 2px rgba(0, 0, 0, 0.3));\n",
              "    fill: #FFFFFF;\n",
              "  }\n",
              "</style>\n",
              "\n",
              "    <script>\n",
              "      async function quickchart(key) {\n",
              "        const containerElement = document.querySelector('#' + key);\n",
              "        const charts = await google.colab.kernel.invokeFunction(\n",
              "            'suggestCharts', [key], {});\n",
              "      }\n",
              "    </script>\n",
              "\n",
              "      <script>\n",
              "\n",
              "function displayQuickchartButton(domScope) {\n",
              "  let quickchartButtonEl =\n",
              "    domScope.querySelector('#df-4e418e83-ba1d-46c0-bdfb-55e17b3c9a0f button.colab-df-quickchart');\n",
              "  quickchartButtonEl.style.display =\n",
              "    google.colab.kernel.accessAllowed ? 'block' : 'none';\n",
              "}\n",
              "\n",
              "        displayQuickchartButton(document);\n",
              "      </script>\n",
              "      <style>\n",
              "    .colab-df-container {\n",
              "      display:flex;\n",
              "      flex-wrap:wrap;\n",
              "      gap: 12px;\n",
              "    }\n",
              "\n",
              "    .colab-df-convert {\n",
              "      background-color: #E8F0FE;\n",
              "      border: none;\n",
              "      border-radius: 50%;\n",
              "      cursor: pointer;\n",
              "      display: none;\n",
              "      fill: #1967D2;\n",
              "      height: 32px;\n",
              "      padding: 0 0 0 0;\n",
              "      width: 32px;\n",
              "    }\n",
              "\n",
              "    .colab-df-convert:hover {\n",
              "      background-color: #E2EBFA;\n",
              "      box-shadow: 0px 1px 2px rgba(60, 64, 67, 0.3), 0px 1px 3px 1px rgba(60, 64, 67, 0.15);\n",
              "      fill: #174EA6;\n",
              "    }\n",
              "\n",
              "    [theme=dark] .colab-df-convert {\n",
              "      background-color: #3B4455;\n",
              "      fill: #D2E3FC;\n",
              "    }\n",
              "\n",
              "    [theme=dark] .colab-df-convert:hover {\n",
              "      background-color: #434B5C;\n",
              "      box-shadow: 0px 1px 3px 1px rgba(0, 0, 0, 0.15);\n",
              "      filter: drop-shadow(0px 1px 2px rgba(0, 0, 0, 0.3));\n",
              "      fill: #FFFFFF;\n",
              "    }\n",
              "  </style>\n",
              "\n",
              "      <script>\n",
              "        const buttonEl =\n",
              "          document.querySelector('#df-8f74e4ae-bf69-4de3-8849-52f52150dbdf button.colab-df-convert');\n",
              "        buttonEl.style.display =\n",
              "          google.colab.kernel.accessAllowed ? 'block' : 'none';\n",
              "\n",
              "        async function convertToInteractive(key) {\n",
              "          const element = document.querySelector('#df-8f74e4ae-bf69-4de3-8849-52f52150dbdf');\n",
              "          const dataTable =\n",
              "            await google.colab.kernel.invokeFunction('convertToInteractive',\n",
              "                                                     [key], {});\n",
              "          if (!dataTable) return;\n",
              "\n",
              "          const docLinkHtml = 'Like what you see? Visit the ' +\n",
              "            '<a target=\"_blank\" href=https://colab.research.google.com/notebooks/data_table.ipynb>data table notebook</a>'\n",
              "            + ' to learn more about interactive tables.';\n",
              "          element.innerHTML = '';\n",
              "          dataTable['output_type'] = 'display_data';\n",
              "          await google.colab.output.renderOutput(dataTable, element);\n",
              "          const docLink = document.createElement('div');\n",
              "          docLink.innerHTML = docLinkHtml;\n",
              "          element.appendChild(docLink);\n",
              "        }\n",
              "      </script>\n",
              "    </div>\n",
              "  </div>\n"
            ]
          },
          "metadata": {},
          "execution_count": 2
        }
      ],
      "source": [
        "import pandas\n",
        "!pip install statsmodels\n",
        "!wget https://raw.githubusercontent.com/MicrosoftDocs/mslearn-introduction-to-machine-learning/main/graphing.py\n",
        "!wget https://raw.githubusercontent.com/MicrosoftDocs/mslearn-introduction-to-machine-learning/main/Data/dog-training.csv\n",
        "!wget https://raw.githubusercontent.com/MicrosoftDocs/mslearn-introduction-to-machine-learning/main/Data/dog-training-switzerland.csv\n",
        "\n",
        "data = pandas.read_csv(\"dog-training.csv\", delimiter=\"\\t\")\n",
        "\n",
        "print(data.shape)\n",
        "data.head()"
      ]
    },
    {
      "cell_type": "markdown",
      "source": [
        "We're interested in the relationship between a dog's weight and the amount of rescues it performed in the previous year. Let's begin by plotting `rescues_last_year` as a function of `weight_last_year`:"
      ],
      "metadata": {
        "id": "gEd3xF3s6F2Y"
      }
    },
    {
      "cell_type": "code",
      "source": [
        "import graphing\n",
        "import statsmodels.formula.api as smf\n",
        "\n",
        "# First, we define our formula using a special syntax\n",
        "# This says that rescues_last_year is explained by weight_last_year\n",
        "formula = \"rescues_last_year ~ weight_last_year\"\n",
        "\n",
        "model = smf.ols(formula = formula, data = data).fit()\n",
        "\n",
        "graphing.scatter_2D(data, \"weight_last_year\", \"rescues_last_year\", trendline = lambda x: model.params[1] * x + model.params[0])\n"
      ],
      "metadata": {
        "colab": {
          "base_uri": "https://localhost:8080/",
          "height": 417
        },
        "id": "MzGJeAl46GzM",
        "outputId": "49f4dcd9-98b8-4824-d3e4-7cc3b27283ca"
      },
      "execution_count": 3,
      "outputs": [
        {
          "output_type": "display_data",
          "data": {
            "text/html": [
              "<html>\n",
              "<head><meta charset=\"utf-8\" /></head>\n",
              "<body>\n",
              "    <div>            <script src=\"https://cdnjs.cloudflare.com/ajax/libs/mathjax/2.7.5/MathJax.js?config=TeX-AMS-MML_SVG\"></script><script type=\"text/javascript\">if (window.MathJax && window.MathJax.Hub && window.MathJax.Hub.Config) {window.MathJax.Hub.Config({SVG: {font: \"STIX-Web\"}});}</script>                <script type=\"text/javascript\">window.PlotlyConfig = {MathJaxConfig: 'local'};</script>\n",
              "        <script src=\"https://cdn.plot.ly/plotly-2.18.2.min.js\"></script>                <div id=\"9c308913-5534-4ddf-b02b-ba7fb8141ae5\" class=\"plotly-graph-div\" style=\"height:400px; width:100%;\"></div>            <script type=\"text/javascript\">                                    window.PLOTLYENV=window.PLOTLYENV || {};                                    if (document.getElementById(\"9c308913-5534-4ddf-b02b-ba7fb8141ae5\")) {                    Plotly.newPlot(                        \"9c308913-5534-4ddf-b02b-ba7fb8141ae5\",                        [{\"hovertemplate\":\"weight last year=%{x}<br>rescues last year=%{y}<extra></extra>\",\"legendgroup\":\"\",\"marker\":{\"color\":\"#636efa\",\"symbol\":\"circle\",\"size\":19},\"mode\":\"markers\",\"name\":\"\",\"orientation\":\"v\",\"showlegend\":false,\"x\":[14.5,14.0,17.7,13.7,18.4,12.4,13.1,17.1,14.3,20.2,14.5,17.8,18.6,19.5,18.3,19.6,22.7,19.6,17.8,19.1,23.1,21.1,28.5,20.6,11.4,22.2,14.6,16.5,16.1,17.2,21.6,22.5,21.2,19.4,16.2,21.4,18.6,12.6,14.8,9.3,7.2,19.4,19.5,20.0,15.4,16.9,21.0,17.1,23.5,23.0],\"xaxis\":\"x\",\"y\":[35,30,34,29,30,25,26,37,32,30,35,32,33,36,32,36,38,35,33,34,37,35,34,40,20,32,31,38,31,36,44,28,39,30,44,42,39,30,26,29,27,37,30,26,25,29,29,30,29,37],\"yaxis\":\"y\",\"type\":\"scatter\"}],                        {\"template\":{\"data\":{\"barpolar\":[{\"marker\":{\"line\":{\"color\":\"white\",\"width\":0.5},\"pattern\":{\"fillmode\":\"overlay\",\"size\":10,\"solidity\":0.2}},\"type\":\"barpolar\"}],\"bar\":[{\"error_x\":{\"color\":\"#2a3f5f\"},\"error_y\":{\"color\":\"#2a3f5f\"},\"marker\":{\"line\":{\"color\":\"white\",\"width\":0.5},\"pattern\":{\"fillmode\":\"overlay\",\"size\":10,\"solidity\":0.2}},\"type\":\"bar\"}],\"carpet\":[{\"aaxis\":{\"endlinecolor\":\"#2a3f5f\",\"gridcolor\":\"#C8D4E3\",\"linecolor\":\"#C8D4E3\",\"minorgridcolor\":\"#C8D4E3\",\"startlinecolor\":\"#2a3f5f\"},\"baxis\":{\"endlinecolor\":\"#2a3f5f\",\"gridcolor\":\"#C8D4E3\",\"linecolor\":\"#C8D4E3\",\"minorgridcolor\":\"#C8D4E3\",\"startlinecolor\":\"#2a3f5f\"},\"type\":\"carpet\"}],\"choropleth\":[{\"colorbar\":{\"outlinewidth\":0,\"ticks\":\"\"},\"type\":\"choropleth\"}],\"contourcarpet\":[{\"colorbar\":{\"outlinewidth\":0,\"ticks\":\"\"},\"type\":\"contourcarpet\"}],\"contour\":[{\"colorbar\":{\"outlinewidth\":0,\"ticks\":\"\"},\"colorscale\":[[0.0,\"#0d0887\"],[0.1111111111111111,\"#46039f\"],[0.2222222222222222,\"#7201a8\"],[0.3333333333333333,\"#9c179e\"],[0.4444444444444444,\"#bd3786\"],[0.5555555555555556,\"#d8576b\"],[0.6666666666666666,\"#ed7953\"],[0.7777777777777778,\"#fb9f3a\"],[0.8888888888888888,\"#fdca26\"],[1.0,\"#f0f921\"]],\"type\":\"contour\"}],\"heatmapgl\":[{\"colorbar\":{\"outlinewidth\":0,\"ticks\":\"\"},\"colorscale\":[[0.0,\"#0d0887\"],[0.1111111111111111,\"#46039f\"],[0.2222222222222222,\"#7201a8\"],[0.3333333333333333,\"#9c179e\"],[0.4444444444444444,\"#bd3786\"],[0.5555555555555556,\"#d8576b\"],[0.6666666666666666,\"#ed7953\"],[0.7777777777777778,\"#fb9f3a\"],[0.8888888888888888,\"#fdca26\"],[1.0,\"#f0f921\"]],\"type\":\"heatmapgl\"}],\"heatmap\":[{\"colorbar\":{\"outlinewidth\":0,\"ticks\":\"\"},\"colorscale\":[[0.0,\"#0d0887\"],[0.1111111111111111,\"#46039f\"],[0.2222222222222222,\"#7201a8\"],[0.3333333333333333,\"#9c179e\"],[0.4444444444444444,\"#bd3786\"],[0.5555555555555556,\"#d8576b\"],[0.6666666666666666,\"#ed7953\"],[0.7777777777777778,\"#fb9f3a\"],[0.8888888888888888,\"#fdca26\"],[1.0,\"#f0f921\"]],\"type\":\"heatmap\"}],\"histogram2dcontour\":[{\"colorbar\":{\"outlinewidth\":0,\"ticks\":\"\"},\"colorscale\":[[0.0,\"#0d0887\"],[0.1111111111111111,\"#46039f\"],[0.2222222222222222,\"#7201a8\"],[0.3333333333333333,\"#9c179e\"],[0.4444444444444444,\"#bd3786\"],[0.5555555555555556,\"#d8576b\"],[0.6666666666666666,\"#ed7953\"],[0.7777777777777778,\"#fb9f3a\"],[0.8888888888888888,\"#fdca26\"],[1.0,\"#f0f921\"]],\"type\":\"histogram2dcontour\"}],\"histogram2d\":[{\"colorbar\":{\"outlinewidth\":0,\"ticks\":\"\"},\"colorscale\":[[0.0,\"#0d0887\"],[0.1111111111111111,\"#46039f\"],[0.2222222222222222,\"#7201a8\"],[0.3333333333333333,\"#9c179e\"],[0.4444444444444444,\"#bd3786\"],[0.5555555555555556,\"#d8576b\"],[0.6666666666666666,\"#ed7953\"],[0.7777777777777778,\"#fb9f3a\"],[0.8888888888888888,\"#fdca26\"],[1.0,\"#f0f921\"]],\"type\":\"histogram2d\"}],\"histogram\":[{\"marker\":{\"pattern\":{\"fillmode\":\"overlay\",\"size\":10,\"solidity\":0.2},\"line\":{\"width\":1}},\"type\":\"histogram\"}],\"mesh3d\":[{\"colorbar\":{\"outlinewidth\":0,\"ticks\":\"\"},\"type\":\"mesh3d\"}],\"parcoords\":[{\"line\":{\"colorbar\":{\"outlinewidth\":0,\"ticks\":\"\"}},\"type\":\"parcoords\"}],\"pie\":[{\"automargin\":true,\"type\":\"pie\"}],\"scatter3d\":[{\"line\":{\"colorbar\":{\"outlinewidth\":0,\"ticks\":\"\"}},\"marker\":{\"colorbar\":{\"outlinewidth\":0,\"ticks\":\"\"},\"opacity\":0.8},\"type\":\"scatter3d\"}],\"scattercarpet\":[{\"marker\":{\"colorbar\":{\"outlinewidth\":0,\"ticks\":\"\"}},\"type\":\"scattercarpet\"}],\"scattergeo\":[{\"marker\":{\"colorbar\":{\"outlinewidth\":0,\"ticks\":\"\"}},\"type\":\"scattergeo\"}],\"scattergl\":[{\"marker\":{\"colorbar\":{\"outlinewidth\":0,\"ticks\":\"\"}},\"type\":\"scattergl\"}],\"scattermapbox\":[{\"marker\":{\"colorbar\":{\"outlinewidth\":0,\"ticks\":\"\"}},\"type\":\"scattermapbox\"}],\"scatterpolargl\":[{\"marker\":{\"colorbar\":{\"outlinewidth\":0,\"ticks\":\"\"}},\"type\":\"scatterpolargl\"}],\"scatterpolar\":[{\"marker\":{\"colorbar\":{\"outlinewidth\":0,\"ticks\":\"\"}},\"type\":\"scatterpolar\"}],\"scatter\":[{\"fillpattern\":{\"fillmode\":\"overlay\",\"size\":10,\"solidity\":0.2},\"type\":\"scatter\",\"marker\":{\"opacity\":0.8}}],\"scatterternary\":[{\"marker\":{\"colorbar\":{\"outlinewidth\":0,\"ticks\":\"\"}},\"type\":\"scatterternary\"}],\"surface\":[{\"colorbar\":{\"outlinewidth\":0,\"ticks\":\"\"},\"colorscale\":[[0.0,\"#0d0887\"],[0.1111111111111111,\"#46039f\"],[0.2222222222222222,\"#7201a8\"],[0.3333333333333333,\"#9c179e\"],[0.4444444444444444,\"#bd3786\"],[0.5555555555555556,\"#d8576b\"],[0.6666666666666666,\"#ed7953\"],[0.7777777777777778,\"#fb9f3a\"],[0.8888888888888888,\"#fdca26\"],[1.0,\"#f0f921\"]],\"type\":\"surface\"}],\"table\":[{\"cells\":{\"fill\":{\"color\":\"#EBF0F8\"},\"line\":{\"color\":\"white\"}},\"header\":{\"fill\":{\"color\":\"#C8D4E3\"},\"line\":{\"color\":\"white\"}},\"type\":\"table\"}],\"box\":[{\"boxpoints\":\"outliers\",\"notched\":false,\"type\":\"box\"}]},\"layout\":{\"annotationdefaults\":{\"arrowcolor\":\"#2a3f5f\",\"arrowhead\":0,\"arrowwidth\":1},\"autotypenumbers\":\"strict\",\"coloraxis\":{\"colorbar\":{\"outlinewidth\":0,\"ticks\":\"\"}},\"colorscale\":{\"diverging\":[[0,\"#8e0152\"],[0.1,\"#c51b7d\"],[0.2,\"#de77ae\"],[0.3,\"#f1b6da\"],[0.4,\"#fde0ef\"],[0.5,\"#f7f7f7\"],[0.6,\"#e6f5d0\"],[0.7,\"#b8e186\"],[0.8,\"#7fbc41\"],[0.9,\"#4d9221\"],[1,\"#276419\"]],\"sequential\":[[0.0,\"#0d0887\"],[0.1111111111111111,\"#46039f\"],[0.2222222222222222,\"#7201a8\"],[0.3333333333333333,\"#9c179e\"],[0.4444444444444444,\"#bd3786\"],[0.5555555555555556,\"#d8576b\"],[0.6666666666666666,\"#ed7953\"],[0.7777777777777778,\"#fb9f3a\"],[0.8888888888888888,\"#fdca26\"],[1.0,\"#f0f921\"]],\"sequentialminus\":[[0.0,\"#0d0887\"],[0.1111111111111111,\"#46039f\"],[0.2222222222222222,\"#7201a8\"],[0.3333333333333333,\"#9c179e\"],[0.4444444444444444,\"#bd3786\"],[0.5555555555555556,\"#d8576b\"],[0.6666666666666666,\"#ed7953\"],[0.7777777777777778,\"#fb9f3a\"],[0.8888888888888888,\"#fdca26\"],[1.0,\"#f0f921\"]]},\"colorway\":[\"#636efa\",\"#EF553B\",\"#00cc96\",\"#ab63fa\",\"#FFA15A\",\"#19d3f3\",\"#FF6692\",\"#B6E880\",\"#FF97FF\",\"#FECB52\"],\"font\":{\"color\":\"#2a3f5f\"},\"geo\":{\"bgcolor\":\"white\",\"lakecolor\":\"white\",\"landcolor\":\"white\",\"showlakes\":true,\"showland\":true,\"subunitcolor\":\"#C8D4E3\"},\"hoverlabel\":{\"align\":\"left\"},\"hovermode\":\"closest\",\"mapbox\":{\"style\":\"light\"},\"paper_bgcolor\":\"white\",\"plot_bgcolor\":\"white\",\"polar\":{\"angularaxis\":{\"gridcolor\":\"#EBF0F8\",\"linecolor\":\"#EBF0F8\",\"ticks\":\"\"},\"bgcolor\":\"white\",\"radialaxis\":{\"gridcolor\":\"#EBF0F8\",\"linecolor\":\"#EBF0F8\",\"ticks\":\"\"}},\"scene\":{\"xaxis\":{\"backgroundcolor\":\"white\",\"gridcolor\":\"#DFE8F3\",\"gridwidth\":2,\"linecolor\":\"#EBF0F8\",\"showbackground\":true,\"ticks\":\"\",\"zerolinecolor\":\"#EBF0F8\"},\"yaxis\":{\"backgroundcolor\":\"white\",\"gridcolor\":\"#DFE8F3\",\"gridwidth\":2,\"linecolor\":\"#EBF0F8\",\"showbackground\":true,\"ticks\":\"\",\"zerolinecolor\":\"#EBF0F8\"},\"zaxis\":{\"backgroundcolor\":\"white\",\"gridcolor\":\"#DFE8F3\",\"gridwidth\":2,\"linecolor\":\"#EBF0F8\",\"showbackground\":true,\"ticks\":\"\",\"zerolinecolor\":\"#EBF0F8\"},\"camera\":{\"eye\":{\"x\":1.5,\"y\":1.5,\"z\":0.1}}},\"shapedefaults\":{\"line\":{\"color\":\"#2a3f5f\"}},\"ternary\":{\"aaxis\":{\"gridcolor\":\"#DFE8F3\",\"linecolor\":\"#A2B1C6\",\"ticks\":\"\"},\"baxis\":{\"gridcolor\":\"#DFE8F3\",\"linecolor\":\"#A2B1C6\",\"ticks\":\"\"},\"bgcolor\":\"white\",\"caxis\":{\"gridcolor\":\"#DFE8F3\",\"linecolor\":\"#A2B1C6\",\"ticks\":\"\"}},\"title\":{\"x\":0.5},\"xaxis\":{\"automargin\":true,\"gridcolor\":\"#EBF0F8\",\"linecolor\":\"#EBF0F8\",\"ticks\":\"\",\"title\":{\"standoff\":15},\"zerolinecolor\":\"#EBF0F8\",\"zerolinewidth\":2,\"linewidth\":2,\"showline\":true},\"yaxis\":{\"automargin\":true,\"gridcolor\":\"#EBF0F8\",\"linecolor\":\"#EBF0F8\",\"ticks\":\"\",\"title\":{\"standoff\":15},\"zerolinecolor\":\"#EBF0F8\",\"zerolinewidth\":2,\"linewidth\":2,\"showline\":true},\"height\":400,\"margin\":{\"b\":2,\"l\":2,\"r\":2,\"t\":30}}},\"xaxis\":{\"anchor\":\"y\",\"domain\":[0.0,1.0],\"title\":{\"text\":\"weight last year\"}},\"yaxis\":{\"anchor\":\"x\",\"domain\":[0.0,1.0],\"title\":{\"text\":\"rescues last year\"}},\"legend\":{\"tracegroupgap\":0},\"shapes\":[{\"path\":\"M7.2 26.536859941675704 L 7.307035175879397 26.598734799905856 L 7.414070351758794 26.660609658136003 L 7.521105527638191 26.722484516366155 L 7.628140703517588 26.784359374596306 L 7.735175879396985 26.846234232826454 L 7.842211055276382 26.908109091056605 L 7.949246231155779 26.969983949286757 L 8.056281407035176 27.031858807516905 L 8.163316582914574 27.093733665747056 L 8.27035175879397 27.155608523977207 L 8.377386934673368 27.217483382207355 L 8.484422110552764 27.279358240437507 L 8.591457286432162 27.341233098667658 L 8.698492462311558 27.403107956897806 L 8.805527638190956 27.464982815127957 L 8.912562814070352 27.52685767335811 L 9.019597989949748 27.588732531588256 L 9.126633165829146 27.650607389818408 L 9.233668341708544 27.71248224804856 L 9.34070351758794 27.77435710627871 L 9.447738693467336 27.83623196450886 L 9.554773869346734 27.89810682273901 L 9.66180904522613 27.959981680969157 L 9.768844221105528 28.021856539199312 L 9.875879396984924 28.08373139742946 L 9.982914572864322 28.14560625565961 L 10.089949748743718 28.20748111388976 L 10.196984924623116 28.26935597211991 L 10.304020100502512 28.331230830350062 L 10.411055276381909 28.39310568858021 L 10.518090452261307 28.45498054681036 L 10.625125628140704 28.516855405040513 L 10.7321608040201 28.578730263270664 L 10.839195979899497 28.640605121500812 L 10.946231155778895 28.702479979730963 L 11.053266331658293 28.764354837961115 L 11.160301507537689 28.826229696191263 L 11.267336683417085 28.888104554421414 L 11.374371859296483 28.949979412651565 L 11.48140703517588 29.011854270881713 L 11.588442211055277 29.073729129111864 L 11.695477386934673 29.135603987342016 L 11.80251256281407 29.197478845572164 L 11.909547738693467 29.259353703802315 L 12.016582914572865 29.321228562032466 L 12.123618090452261 29.383103420262614 L 12.230653266331657 29.444978278492766 L 12.337688442211055 29.506853136722917 L 12.444723618090453 29.56872799495307 L 12.55175879396985 29.630602853183216 L 12.658793969849246 29.692477711413368 L 12.765829145728643 29.754352569643515 L 12.872864321608041 29.81622742787367 L 12.979899497487438 29.878102286103818 L 13.086934673366834 29.939977144333966 L 13.19396984924623 30.001852002564117 L 13.301005025125628 30.06372686079427 L 13.408040201005026 30.12560171902442 L 13.515075376884422 30.187476577254568 L 13.622110552763818 30.24935143548472 L 13.729145728643216 30.31122629371487 L 13.836180904522614 30.373101151945022 L 13.94321608040201 30.43497601017517 L 14.050251256281406 30.496850868405318 L 14.157286432160804 30.558725726635473 L 14.264321608040202 30.62060058486562 L 14.371356783919598 30.682475443095772 L 14.478391959798994 30.744350301325923 L 14.585427135678392 30.80622515955607 L 14.69246231155779 30.868100017786222 L 14.799497487437186 30.929974876016374 L 14.906532663316582 30.99184973424652 L 15.013567839195979 31.05372459247667 L 15.120603015075377 31.115599450706824 L 15.227638190954774 31.177474308936972 L 15.33467336683417 31.239349167167124 L 15.441708542713567 31.301224025397275 L 15.548743718592966 31.363098883627423 L 15.655778894472363 31.424973741857574 L 15.762814070351759 31.486848600087725 L 15.869849246231155 31.548723458317873 L 15.976884422110551 31.610598316548025 L 16.08391959798995 31.672473174778176 L 16.190954773869347 31.734348033008324 L 16.297989949748743 31.796222891238475 L 16.40502512562814 31.858097749468627 L 16.51206030150754 31.919972607698774 L 16.619095477386935 31.98184746592893 L 16.72613065326633 32.04372232415908 L 16.833165829145727 32.105597182389225 L 16.940201005025127 32.16747204061938 L 17.047236180904523 32.22934689884953 L 17.15427135678392 32.291221757079676 L 17.261306532663315 32.35309661530982 L 17.368341708542715 32.41497147353998 L 17.47537688442211 32.47684633177013 L 17.582412060301507 32.53872119000028 L 17.689447236180904 32.60059604823043 L 17.7964824120603 32.66247090646058 L 17.9035175879397 32.72434576469073 L 18.010552763819096 32.78622062292088 L 18.117587939698492 32.84809548115103 L 18.224623115577888 32.90997033938118 L 18.331658291457288 32.97184519761133 L 18.438693467336684 33.033720055841485 L 18.54572864321608 33.09559491407163 L 18.652763819095476 33.15746977230178 L 18.759798994974876 33.219344630531936 L 18.866834170854272 33.28121948876208 L 18.973869346733668 33.34309434699223 L 19.080904522613064 33.404969205222386 L 19.18793969849246 33.466844063452534 L 19.29497487437186 33.52871892168268 L 19.402010050251256 33.59059377991284 L 19.509045226130652 33.652468638142985 L 19.61608040201005 33.71434349637313 L 19.72311557788945 33.77621835460329 L 19.830150753768844 33.838093212833435 L 19.93718592964824 33.89996807106358 L 20.044221105527637 33.96184292929374 L 20.151256281407036 34.023717787523886 L 20.258291457286433 34.08559264575403 L 20.36532663316583 34.14746750398419 L 20.472361809045225 34.209342362214336 L 20.579396984924625 34.271217220444484 L 20.68643216080402 34.33309207867464 L 20.793467336683417 34.39496693690479 L 20.900502512562813 34.456841795134935 L 21.00753768844221 34.51871665336509 L 21.11457286432161 34.58059151159524 L 21.221608040201005 34.642466369825385 L 21.3286432160804 34.70434122805554 L 21.435678391959797 34.76621608628569 L 21.542713567839197 34.828090944515836 L 21.649748743718593 34.88996580274599 L 21.75678391959799 34.95184066097614 L 21.863819095477385 35.013715519206286 L 21.970854271356785 35.07559037743644 L 22.07788944723618 35.13746523566659 L 22.184924623115577 35.19934009389674 L 22.291959798994974 35.26121495212689 L 22.398994974874373 35.32308981035704 L 22.50603015075377 35.38496466858719 L 22.613065326633166 35.44683952681734 L 22.72010050251256 35.50871438504749 L 22.827135678391958 35.57058924327764 L 22.934170854271358 35.63246410150779 L 23.041206030150754 35.69433895973794 L 23.14824120603015 35.75621381796809 L 23.255276381909546 35.81808867619824 L 23.362311557788942 35.87996353442839 L 23.469346733668342 35.94183839265854 L 23.576381909547738 36.003713250888694 L 23.683417085427134 36.06558810911884 L 23.79045226130653 36.12746296734899 L 23.89748743718593 36.189337825579145 L 24.004522613065326 36.25121268380929 L 24.111557788944722 36.31308754203944 L 24.21859296482412 36.374962400269595 L 24.325628140703518 36.43683725849974 L 24.432663316582914 36.4987121167299 L 24.53969849246231 36.560586974960046 L 24.646733668341707 36.622461833190194 L 24.753768844221103 36.68433669142034 L 24.860804020100502 36.746211549650496 L 24.9678391959799 36.808086407880644 L 25.074874371859295 36.86996126611079 L 25.18190954773869 36.93183612434095 L 25.28894472361809 36.9937109825711 L 25.395979899497487 37.05558584080125 L 25.503015075376883 37.1174606990314 L 25.61005025125628 37.179335557261545 L 25.71708542713568 37.2412104154917 L 25.824120603015075 37.30308527372185 L 25.93115577889447 37.364960131951996 L 26.038190954773867 37.42683499018215 L 26.145226130653263 37.4887098484123 L 26.252261306532663 37.550584706642454 L 26.35929648241206 37.6124595648726 L 26.466331658291455 37.67433442310275 L 26.57336683417085 37.7362092813329 L 26.68040201005025 37.79808413956305 L 26.787437185929647 37.8599589977932 L 26.894472361809044 37.921833856023355 L 27.00150753768844 37.9837087142535 L 27.10854271356784 38.04558357248365 L 27.215577889447236 38.107458430713805 L 27.32261306532663 38.16933328894395 L 27.429648241206028 38.2312081471741 L 27.536683417085428 38.293083005404256 L 27.643718592964824 38.354957863634404 L 27.75075376884422 38.41683272186455 L 27.857788944723616 38.47870758009471 L 27.964824120603012 38.54058243832485 L 28.071859296482412 38.602457296555 L 28.178894472361808 38.66433215478516 L 28.285929648241204 38.726207013015305 L 28.3929648241206 38.78808187124545 L 28.5 38.84995672947561\",\"type\":\"path\",\"line\":{\"color\":\"rgb(228,26,28)\"}}]},                        {\"responsive\": true}                    ).then(function(){\n",
              "                            \n",
              "var gd = document.getElementById('9c308913-5534-4ddf-b02b-ba7fb8141ae5');\n",
              "var x = new MutationObserver(function (mutations, observer) {{\n",
              "        var display = window.getComputedStyle(gd).display;\n",
              "        if (!display || display === 'none') {{\n",
              "            console.log([gd, 'removed!']);\n",
              "            Plotly.purge(gd);\n",
              "            observer.disconnect();\n",
              "        }}\n",
              "}});\n",
              "\n",
              "// Listen for the removal of the full notebook cells\n",
              "var notebookContainer = gd.closest('#notebook-container');\n",
              "if (notebookContainer) {{\n",
              "    x.observe(notebookContainer, {childList: true});\n",
              "}}\n",
              "\n",
              "// Listen for the clearing of the current output cell\n",
              "var outputEl = gd.closest('.output');\n",
              "if (outputEl) {{\n",
              "    x.observe(outputEl, {childList: true});\n",
              "}}\n",
              "\n",
              "                        })                };                            </script>        </div>\n",
              "</body>\n",
              "</html>"
            ]
          },
          "metadata": {}
        }
      ]
    },
    {
      "cell_type": "markdown",
      "source": [
        "There seems to be a pretty clear relationship between a dog's weight and the number of rescues it's performed.\n",
        "That seems pretty reasonable, as we'd expect heavier dogs to be bigger and stronger and thus better at saving lives!"
      ],
      "metadata": {
        "id": "gggxmQZv6ij1"
      }
    },
    {
      "cell_type": "markdown",
      "source": [
        "# Train/test split\n",
        "\n",
        "This time, instead of fitting a model to the entirety of our dataset, we're going to separate our dataset into two smaller partitions: a _training set_ and a _test set_.\n",
        "\n",
        "The _training set_ is the largest of the two, usually made up of between 70-80% of the overall dataset, with the rest of the dataset making up the _test set_.\n",
        "\n",
        "By splitting our data, we're able to gauge the performance of our model when confronted with previously unseen data.\n",
        "\n",
        "Notice that data on the _test set_ is never used in training. For that reason, it's commonly referred to as *unseen data* or data that is *unknown by the model*."
      ],
      "metadata": {
        "id": "_9x-ukws6nQC"
      }
    },
    {
      "cell_type": "code",
      "source": [
        "from sklearn.model_selection import train_test_split\n",
        "\n",
        "\n",
        "# Obtain the label and feature from the original data\n",
        "dataset = data[['rescues_last_year','weight_last_year']]\n",
        "\n",
        "# Split the dataset in an 70/30 train/test ratio. We also obtain the respective corresponding indices from the original dataset.\n",
        "train, test = train_test_split(dataset, train_size=0.7, random_state=21)\n",
        "\n",
        "print(\"Train\")\n",
        "print(train.head())\n",
        "print(train.shape)\n",
        "\n",
        "print(\"Test\")\n",
        "print(test.head())\n",
        "print(test.shape)"
      ],
      "metadata": {
        "colab": {
          "base_uri": "https://localhost:8080/"
        },
        "id": "G3VTj2Ur6jV0",
        "outputId": "d732a141-03f4-4762-c974-3dee8d1fcb50"
      },
      "execution_count": 4,
      "outputs": [
        {
          "output_type": "stream",
          "name": "stdout",
          "text": [
            "Train\n",
            "    rescues_last_year  weight_last_year\n",
            "33                 30              19.4\n",
            "0                  35              14.5\n",
            "13                 36              19.5\n",
            "28                 31              16.1\n",
            "49                 37              23.0\n",
            "(35, 2)\n",
            "Test\n",
            "    rescues_last_year  weight_last_year\n",
            "7                  37              17.1\n",
            "44                 25              15.4\n",
            "43                 26              20.0\n",
            "25                 32              22.2\n",
            "14                 32              18.3\n",
            "(15, 2)\n"
          ]
        }
      ]
    },
    {
      "cell_type": "markdown",
      "source": [
        "We notice that these sets are different, and that the _training set_ and _test set_ contain 70% and 30% of the overall data, respectively.\n",
        "\n",
        "Let's have a look at how the _training set_ and _test set_ are separated out:"
      ],
      "metadata": {
        "id": "1qDH98y666T-"
      }
    },
    {
      "cell_type": "code",
      "source": [
        "# You don't need to understand this code well\n",
        "# It's just used to create a scatter plot\n",
        "\n",
        "# concatenate training and test so they can be graphed\n",
        "plot_set = pandas.concat([train,test])\n",
        "plot_set[\"Dataset\"] = [\"train\"] * len(train) + [\"test\"] * len(test)\n",
        "\n",
        "# Create graph\n",
        "graphing.scatter_2D(plot_set, \"weight_last_year\", \"rescues_last_year\", \"Dataset\", trendline = lambda x: model.params[1] * x + model.params[0])"
      ],
      "metadata": {
        "colab": {
          "base_uri": "https://localhost:8080/",
          "height": 417
        },
        "id": "5JOcCJ3C67Aa",
        "outputId": "d3e0e493-780f-4be2-c762-7f8e9cbc1d6c"
      },
      "execution_count": 5,
      "outputs": [
        {
          "output_type": "display_data",
          "data": {
            "text/html": [
              "<html>\n",
              "<head><meta charset=\"utf-8\" /></head>\n",
              "<body>\n",
              "    <div>            <script src=\"https://cdnjs.cloudflare.com/ajax/libs/mathjax/2.7.5/MathJax.js?config=TeX-AMS-MML_SVG\"></script><script type=\"text/javascript\">if (window.MathJax && window.MathJax.Hub && window.MathJax.Hub.Config) {window.MathJax.Hub.Config({SVG: {font: \"STIX-Web\"}});}</script>                <script type=\"text/javascript\">window.PlotlyConfig = {MathJaxConfig: 'local'};</script>\n",
              "        <script src=\"https://cdn.plot.ly/plotly-2.18.2.min.js\"></script>                <div id=\"dfe39a04-3431-4b73-82c5-27869466c34b\" class=\"plotly-graph-div\" style=\"height:400px; width:100%;\"></div>            <script type=\"text/javascript\">                                    window.PLOTLYENV=window.PLOTLYENV || {};                                    if (document.getElementById(\"dfe39a04-3431-4b73-82c5-27869466c34b\")) {                    Plotly.newPlot(                        \"dfe39a04-3431-4b73-82c5-27869466c34b\",                        [{\"hovertemplate\":\"Dataset=train<br>weight last year=%{x}<br>rescues last year=%{y}<extra></extra>\",\"legendgroup\":\"train\",\"marker\":{\"color\":\"#636efa\",\"symbol\":\"circle\",\"size\":19},\"mode\":\"markers\",\"name\":\"train\",\"orientation\":\"v\",\"showlegend\":true,\"x\":[19.4,14.5,19.5,16.1,23.0,7.2,16.9,23.5,21.0,17.2,12.6,14.0,16.5,11.4,21.2,13.7,14.6,22.7,19.5,13.1,17.8,12.4,18.6,9.3,23.1,14.8,18.6,19.4,14.3,14.5,16.2,21.4,18.4,19.6,20.2],\"xaxis\":\"x\",\"y\":[30,35,36,31,37,27,29,29,29,36,30,30,38,20,39,29,31,38,30,26,33,25,33,29,37,26,39,37,32,35,44,42,30,36,30],\"yaxis\":\"y\",\"type\":\"scatter\"},{\"hovertemplate\":\"Dataset=test<br>weight last year=%{x}<br>rescues last year=%{y}<extra></extra>\",\"legendgroup\":\"test\",\"marker\":{\"color\":\"#EF553B\",\"symbol\":\"circle\",\"size\":19},\"mode\":\"markers\",\"name\":\"test\",\"orientation\":\"v\",\"showlegend\":true,\"x\":[17.1,15.4,20.0,22.2,18.3,17.7,20.6,22.5,19.6,17.1,21.6,21.1,19.1,17.8,28.5],\"xaxis\":\"x\",\"y\":[37,25,26,32,32,34,40,28,35,30,44,35,34,32,34],\"yaxis\":\"y\",\"type\":\"scatter\"}],                        {\"template\":{\"data\":{\"barpolar\":[{\"marker\":{\"line\":{\"color\":\"white\",\"width\":0.5},\"pattern\":{\"fillmode\":\"overlay\",\"size\":10,\"solidity\":0.2}},\"type\":\"barpolar\"}],\"bar\":[{\"error_x\":{\"color\":\"#2a3f5f\"},\"error_y\":{\"color\":\"#2a3f5f\"},\"marker\":{\"line\":{\"color\":\"white\",\"width\":0.5},\"pattern\":{\"fillmode\":\"overlay\",\"size\":10,\"solidity\":0.2}},\"type\":\"bar\"}],\"carpet\":[{\"aaxis\":{\"endlinecolor\":\"#2a3f5f\",\"gridcolor\":\"#C8D4E3\",\"linecolor\":\"#C8D4E3\",\"minorgridcolor\":\"#C8D4E3\",\"startlinecolor\":\"#2a3f5f\"},\"baxis\":{\"endlinecolor\":\"#2a3f5f\",\"gridcolor\":\"#C8D4E3\",\"linecolor\":\"#C8D4E3\",\"minorgridcolor\":\"#C8D4E3\",\"startlinecolor\":\"#2a3f5f\"},\"type\":\"carpet\"}],\"choropleth\":[{\"colorbar\":{\"outlinewidth\":0,\"ticks\":\"\"},\"type\":\"choropleth\"}],\"contourcarpet\":[{\"colorbar\":{\"outlinewidth\":0,\"ticks\":\"\"},\"type\":\"contourcarpet\"}],\"contour\":[{\"colorbar\":{\"outlinewidth\":0,\"ticks\":\"\"},\"colorscale\":[[0.0,\"#0d0887\"],[0.1111111111111111,\"#46039f\"],[0.2222222222222222,\"#7201a8\"],[0.3333333333333333,\"#9c179e\"],[0.4444444444444444,\"#bd3786\"],[0.5555555555555556,\"#d8576b\"],[0.6666666666666666,\"#ed7953\"],[0.7777777777777778,\"#fb9f3a\"],[0.8888888888888888,\"#fdca26\"],[1.0,\"#f0f921\"]],\"type\":\"contour\"}],\"heatmapgl\":[{\"colorbar\":{\"outlinewidth\":0,\"ticks\":\"\"},\"colorscale\":[[0.0,\"#0d0887\"],[0.1111111111111111,\"#46039f\"],[0.2222222222222222,\"#7201a8\"],[0.3333333333333333,\"#9c179e\"],[0.4444444444444444,\"#bd3786\"],[0.5555555555555556,\"#d8576b\"],[0.6666666666666666,\"#ed7953\"],[0.7777777777777778,\"#fb9f3a\"],[0.8888888888888888,\"#fdca26\"],[1.0,\"#f0f921\"]],\"type\":\"heatmapgl\"}],\"heatmap\":[{\"colorbar\":{\"outlinewidth\":0,\"ticks\":\"\"},\"colorscale\":[[0.0,\"#0d0887\"],[0.1111111111111111,\"#46039f\"],[0.2222222222222222,\"#7201a8\"],[0.3333333333333333,\"#9c179e\"],[0.4444444444444444,\"#bd3786\"],[0.5555555555555556,\"#d8576b\"],[0.6666666666666666,\"#ed7953\"],[0.7777777777777778,\"#fb9f3a\"],[0.8888888888888888,\"#fdca26\"],[1.0,\"#f0f921\"]],\"type\":\"heatmap\"}],\"histogram2dcontour\":[{\"colorbar\":{\"outlinewidth\":0,\"ticks\":\"\"},\"colorscale\":[[0.0,\"#0d0887\"],[0.1111111111111111,\"#46039f\"],[0.2222222222222222,\"#7201a8\"],[0.3333333333333333,\"#9c179e\"],[0.4444444444444444,\"#bd3786\"],[0.5555555555555556,\"#d8576b\"],[0.6666666666666666,\"#ed7953\"],[0.7777777777777778,\"#fb9f3a\"],[0.8888888888888888,\"#fdca26\"],[1.0,\"#f0f921\"]],\"type\":\"histogram2dcontour\"}],\"histogram2d\":[{\"colorbar\":{\"outlinewidth\":0,\"ticks\":\"\"},\"colorscale\":[[0.0,\"#0d0887\"],[0.1111111111111111,\"#46039f\"],[0.2222222222222222,\"#7201a8\"],[0.3333333333333333,\"#9c179e\"],[0.4444444444444444,\"#bd3786\"],[0.5555555555555556,\"#d8576b\"],[0.6666666666666666,\"#ed7953\"],[0.7777777777777778,\"#fb9f3a\"],[0.8888888888888888,\"#fdca26\"],[1.0,\"#f0f921\"]],\"type\":\"histogram2d\"}],\"histogram\":[{\"marker\":{\"pattern\":{\"fillmode\":\"overlay\",\"size\":10,\"solidity\":0.2},\"line\":{\"width\":1}},\"type\":\"histogram\"}],\"mesh3d\":[{\"colorbar\":{\"outlinewidth\":0,\"ticks\":\"\"},\"type\":\"mesh3d\"}],\"parcoords\":[{\"line\":{\"colorbar\":{\"outlinewidth\":0,\"ticks\":\"\"}},\"type\":\"parcoords\"}],\"pie\":[{\"automargin\":true,\"type\":\"pie\"}],\"scatter3d\":[{\"line\":{\"colorbar\":{\"outlinewidth\":0,\"ticks\":\"\"}},\"marker\":{\"colorbar\":{\"outlinewidth\":0,\"ticks\":\"\"},\"opacity\":0.8},\"type\":\"scatter3d\"}],\"scattercarpet\":[{\"marker\":{\"colorbar\":{\"outlinewidth\":0,\"ticks\":\"\"}},\"type\":\"scattercarpet\"}],\"scattergeo\":[{\"marker\":{\"colorbar\":{\"outlinewidth\":0,\"ticks\":\"\"}},\"type\":\"scattergeo\"}],\"scattergl\":[{\"marker\":{\"colorbar\":{\"outlinewidth\":0,\"ticks\":\"\"}},\"type\":\"scattergl\"}],\"scattermapbox\":[{\"marker\":{\"colorbar\":{\"outlinewidth\":0,\"ticks\":\"\"}},\"type\":\"scattermapbox\"}],\"scatterpolargl\":[{\"marker\":{\"colorbar\":{\"outlinewidth\":0,\"ticks\":\"\"}},\"type\":\"scatterpolargl\"}],\"scatterpolar\":[{\"marker\":{\"colorbar\":{\"outlinewidth\":0,\"ticks\":\"\"}},\"type\":\"scatterpolar\"}],\"scatter\":[{\"fillpattern\":{\"fillmode\":\"overlay\",\"size\":10,\"solidity\":0.2},\"type\":\"scatter\",\"marker\":{\"opacity\":0.8}}],\"scatterternary\":[{\"marker\":{\"colorbar\":{\"outlinewidth\":0,\"ticks\":\"\"}},\"type\":\"scatterternary\"}],\"surface\":[{\"colorbar\":{\"outlinewidth\":0,\"ticks\":\"\"},\"colorscale\":[[0.0,\"#0d0887\"],[0.1111111111111111,\"#46039f\"],[0.2222222222222222,\"#7201a8\"],[0.3333333333333333,\"#9c179e\"],[0.4444444444444444,\"#bd3786\"],[0.5555555555555556,\"#d8576b\"],[0.6666666666666666,\"#ed7953\"],[0.7777777777777778,\"#fb9f3a\"],[0.8888888888888888,\"#fdca26\"],[1.0,\"#f0f921\"]],\"type\":\"surface\"}],\"table\":[{\"cells\":{\"fill\":{\"color\":\"#EBF0F8\"},\"line\":{\"color\":\"white\"}},\"header\":{\"fill\":{\"color\":\"#C8D4E3\"},\"line\":{\"color\":\"white\"}},\"type\":\"table\"}],\"box\":[{\"boxpoints\":\"outliers\",\"notched\":false,\"type\":\"box\"}]},\"layout\":{\"annotationdefaults\":{\"arrowcolor\":\"#2a3f5f\",\"arrowhead\":0,\"arrowwidth\":1},\"autotypenumbers\":\"strict\",\"coloraxis\":{\"colorbar\":{\"outlinewidth\":0,\"ticks\":\"\"}},\"colorscale\":{\"diverging\":[[0,\"#8e0152\"],[0.1,\"#c51b7d\"],[0.2,\"#de77ae\"],[0.3,\"#f1b6da\"],[0.4,\"#fde0ef\"],[0.5,\"#f7f7f7\"],[0.6,\"#e6f5d0\"],[0.7,\"#b8e186\"],[0.8,\"#7fbc41\"],[0.9,\"#4d9221\"],[1,\"#276419\"]],\"sequential\":[[0.0,\"#0d0887\"],[0.1111111111111111,\"#46039f\"],[0.2222222222222222,\"#7201a8\"],[0.3333333333333333,\"#9c179e\"],[0.4444444444444444,\"#bd3786\"],[0.5555555555555556,\"#d8576b\"],[0.6666666666666666,\"#ed7953\"],[0.7777777777777778,\"#fb9f3a\"],[0.8888888888888888,\"#fdca26\"],[1.0,\"#f0f921\"]],\"sequentialminus\":[[0.0,\"#0d0887\"],[0.1111111111111111,\"#46039f\"],[0.2222222222222222,\"#7201a8\"],[0.3333333333333333,\"#9c179e\"],[0.4444444444444444,\"#bd3786\"],[0.5555555555555556,\"#d8576b\"],[0.6666666666666666,\"#ed7953\"],[0.7777777777777778,\"#fb9f3a\"],[0.8888888888888888,\"#fdca26\"],[1.0,\"#f0f921\"]]},\"colorway\":[\"#636efa\",\"#EF553B\",\"#00cc96\",\"#ab63fa\",\"#FFA15A\",\"#19d3f3\",\"#FF6692\",\"#B6E880\",\"#FF97FF\",\"#FECB52\"],\"font\":{\"color\":\"#2a3f5f\"},\"geo\":{\"bgcolor\":\"white\",\"lakecolor\":\"white\",\"landcolor\":\"white\",\"showlakes\":true,\"showland\":true,\"subunitcolor\":\"#C8D4E3\"},\"hoverlabel\":{\"align\":\"left\"},\"hovermode\":\"closest\",\"mapbox\":{\"style\":\"light\"},\"paper_bgcolor\":\"white\",\"plot_bgcolor\":\"white\",\"polar\":{\"angularaxis\":{\"gridcolor\":\"#EBF0F8\",\"linecolor\":\"#EBF0F8\",\"ticks\":\"\"},\"bgcolor\":\"white\",\"radialaxis\":{\"gridcolor\":\"#EBF0F8\",\"linecolor\":\"#EBF0F8\",\"ticks\":\"\"}},\"scene\":{\"xaxis\":{\"backgroundcolor\":\"white\",\"gridcolor\":\"#DFE8F3\",\"gridwidth\":2,\"linecolor\":\"#EBF0F8\",\"showbackground\":true,\"ticks\":\"\",\"zerolinecolor\":\"#EBF0F8\"},\"yaxis\":{\"backgroundcolor\":\"white\",\"gridcolor\":\"#DFE8F3\",\"gridwidth\":2,\"linecolor\":\"#EBF0F8\",\"showbackground\":true,\"ticks\":\"\",\"zerolinecolor\":\"#EBF0F8\"},\"zaxis\":{\"backgroundcolor\":\"white\",\"gridcolor\":\"#DFE8F3\",\"gridwidth\":2,\"linecolor\":\"#EBF0F8\",\"showbackground\":true,\"ticks\":\"\",\"zerolinecolor\":\"#EBF0F8\"},\"camera\":{\"eye\":{\"x\":1.5,\"y\":1.5,\"z\":0.1}}},\"shapedefaults\":{\"line\":{\"color\":\"#2a3f5f\"}},\"ternary\":{\"aaxis\":{\"gridcolor\":\"#DFE8F3\",\"linecolor\":\"#A2B1C6\",\"ticks\":\"\"},\"baxis\":{\"gridcolor\":\"#DFE8F3\",\"linecolor\":\"#A2B1C6\",\"ticks\":\"\"},\"bgcolor\":\"white\",\"caxis\":{\"gridcolor\":\"#DFE8F3\",\"linecolor\":\"#A2B1C6\",\"ticks\":\"\"}},\"title\":{\"x\":0.5},\"xaxis\":{\"automargin\":true,\"gridcolor\":\"#EBF0F8\",\"linecolor\":\"#EBF0F8\",\"ticks\":\"\",\"title\":{\"standoff\":15},\"zerolinecolor\":\"#EBF0F8\",\"zerolinewidth\":2,\"linewidth\":2,\"showline\":true},\"yaxis\":{\"automargin\":true,\"gridcolor\":\"#EBF0F8\",\"linecolor\":\"#EBF0F8\",\"ticks\":\"\",\"title\":{\"standoff\":15},\"zerolinecolor\":\"#EBF0F8\",\"zerolinewidth\":2,\"linewidth\":2,\"showline\":true},\"height\":400,\"margin\":{\"b\":2,\"l\":2,\"r\":2,\"t\":30}}},\"xaxis\":{\"anchor\":\"y\",\"domain\":[0.0,1.0],\"title\":{\"text\":\"weight last year\"}},\"yaxis\":{\"anchor\":\"x\",\"domain\":[0.0,1.0],\"title\":{\"text\":\"rescues last year\"}},\"legend\":{\"title\":{\"text\":\"Dataset\"},\"tracegroupgap\":0},\"shapes\":[{\"path\":\"M7.2 26.536859941675704 L 7.307035175879397 26.598734799905856 L 7.414070351758794 26.660609658136003 L 7.521105527638191 26.722484516366155 L 7.628140703517588 26.784359374596306 L 7.735175879396985 26.846234232826454 L 7.842211055276382 26.908109091056605 L 7.949246231155779 26.969983949286757 L 8.056281407035176 27.031858807516905 L 8.163316582914574 27.093733665747056 L 8.27035175879397 27.155608523977207 L 8.377386934673368 27.217483382207355 L 8.484422110552764 27.279358240437507 L 8.591457286432162 27.341233098667658 L 8.698492462311558 27.403107956897806 L 8.805527638190956 27.464982815127957 L 8.912562814070352 27.52685767335811 L 9.019597989949748 27.588732531588256 L 9.126633165829146 27.650607389818408 L 9.233668341708544 27.71248224804856 L 9.34070351758794 27.77435710627871 L 9.447738693467336 27.83623196450886 L 9.554773869346734 27.89810682273901 L 9.66180904522613 27.959981680969157 L 9.768844221105528 28.021856539199312 L 9.875879396984924 28.08373139742946 L 9.982914572864322 28.14560625565961 L 10.089949748743718 28.20748111388976 L 10.196984924623116 28.26935597211991 L 10.304020100502512 28.331230830350062 L 10.411055276381909 28.39310568858021 L 10.518090452261307 28.45498054681036 L 10.625125628140704 28.516855405040513 L 10.7321608040201 28.578730263270664 L 10.839195979899497 28.640605121500812 L 10.946231155778895 28.702479979730963 L 11.053266331658293 28.764354837961115 L 11.160301507537689 28.826229696191263 L 11.267336683417085 28.888104554421414 L 11.374371859296483 28.949979412651565 L 11.48140703517588 29.011854270881713 L 11.588442211055277 29.073729129111864 L 11.695477386934673 29.135603987342016 L 11.80251256281407 29.197478845572164 L 11.909547738693467 29.259353703802315 L 12.016582914572865 29.321228562032466 L 12.123618090452261 29.383103420262614 L 12.230653266331657 29.444978278492766 L 12.337688442211055 29.506853136722917 L 12.444723618090453 29.56872799495307 L 12.55175879396985 29.630602853183216 L 12.658793969849246 29.692477711413368 L 12.765829145728643 29.754352569643515 L 12.872864321608041 29.81622742787367 L 12.979899497487438 29.878102286103818 L 13.086934673366834 29.939977144333966 L 13.19396984924623 30.001852002564117 L 13.301005025125628 30.06372686079427 L 13.408040201005026 30.12560171902442 L 13.515075376884422 30.187476577254568 L 13.622110552763818 30.24935143548472 L 13.729145728643216 30.31122629371487 L 13.836180904522614 30.373101151945022 L 13.94321608040201 30.43497601017517 L 14.050251256281406 30.496850868405318 L 14.157286432160804 30.558725726635473 L 14.264321608040202 30.62060058486562 L 14.371356783919598 30.682475443095772 L 14.478391959798994 30.744350301325923 L 14.585427135678392 30.80622515955607 L 14.69246231155779 30.868100017786222 L 14.799497487437186 30.929974876016374 L 14.906532663316582 30.99184973424652 L 15.013567839195979 31.05372459247667 L 15.120603015075377 31.115599450706824 L 15.227638190954774 31.177474308936972 L 15.33467336683417 31.239349167167124 L 15.441708542713567 31.301224025397275 L 15.548743718592966 31.363098883627423 L 15.655778894472363 31.424973741857574 L 15.762814070351759 31.486848600087725 L 15.869849246231155 31.548723458317873 L 15.976884422110551 31.610598316548025 L 16.08391959798995 31.672473174778176 L 16.190954773869347 31.734348033008324 L 16.297989949748743 31.796222891238475 L 16.40502512562814 31.858097749468627 L 16.51206030150754 31.919972607698774 L 16.619095477386935 31.98184746592893 L 16.72613065326633 32.04372232415908 L 16.833165829145727 32.105597182389225 L 16.940201005025127 32.16747204061938 L 17.047236180904523 32.22934689884953 L 17.15427135678392 32.291221757079676 L 17.261306532663315 32.35309661530982 L 17.368341708542715 32.41497147353998 L 17.47537688442211 32.47684633177013 L 17.582412060301507 32.53872119000028 L 17.689447236180904 32.60059604823043 L 17.7964824120603 32.66247090646058 L 17.9035175879397 32.72434576469073 L 18.010552763819096 32.78622062292088 L 18.117587939698492 32.84809548115103 L 18.224623115577888 32.90997033938118 L 18.331658291457288 32.97184519761133 L 18.438693467336684 33.033720055841485 L 18.54572864321608 33.09559491407163 L 18.652763819095476 33.15746977230178 L 18.759798994974876 33.219344630531936 L 18.866834170854272 33.28121948876208 L 18.973869346733668 33.34309434699223 L 19.080904522613064 33.404969205222386 L 19.18793969849246 33.466844063452534 L 19.29497487437186 33.52871892168268 L 19.402010050251256 33.59059377991284 L 19.509045226130652 33.652468638142985 L 19.61608040201005 33.71434349637313 L 19.72311557788945 33.77621835460329 L 19.830150753768844 33.838093212833435 L 19.93718592964824 33.89996807106358 L 20.044221105527637 33.96184292929374 L 20.151256281407036 34.023717787523886 L 20.258291457286433 34.08559264575403 L 20.36532663316583 34.14746750398419 L 20.472361809045225 34.209342362214336 L 20.579396984924625 34.271217220444484 L 20.68643216080402 34.33309207867464 L 20.793467336683417 34.39496693690479 L 20.900502512562813 34.456841795134935 L 21.00753768844221 34.51871665336509 L 21.11457286432161 34.58059151159524 L 21.221608040201005 34.642466369825385 L 21.3286432160804 34.70434122805554 L 21.435678391959797 34.76621608628569 L 21.542713567839197 34.828090944515836 L 21.649748743718593 34.88996580274599 L 21.75678391959799 34.95184066097614 L 21.863819095477385 35.013715519206286 L 21.970854271356785 35.07559037743644 L 22.07788944723618 35.13746523566659 L 22.184924623115577 35.19934009389674 L 22.291959798994974 35.26121495212689 L 22.398994974874373 35.32308981035704 L 22.50603015075377 35.38496466858719 L 22.613065326633166 35.44683952681734 L 22.72010050251256 35.50871438504749 L 22.827135678391958 35.57058924327764 L 22.934170854271358 35.63246410150779 L 23.041206030150754 35.69433895973794 L 23.14824120603015 35.75621381796809 L 23.255276381909546 35.81808867619824 L 23.362311557788942 35.87996353442839 L 23.469346733668342 35.94183839265854 L 23.576381909547738 36.003713250888694 L 23.683417085427134 36.06558810911884 L 23.79045226130653 36.12746296734899 L 23.89748743718593 36.189337825579145 L 24.004522613065326 36.25121268380929 L 24.111557788944722 36.31308754203944 L 24.21859296482412 36.374962400269595 L 24.325628140703518 36.43683725849974 L 24.432663316582914 36.4987121167299 L 24.53969849246231 36.560586974960046 L 24.646733668341707 36.622461833190194 L 24.753768844221103 36.68433669142034 L 24.860804020100502 36.746211549650496 L 24.9678391959799 36.808086407880644 L 25.074874371859295 36.86996126611079 L 25.18190954773869 36.93183612434095 L 25.28894472361809 36.9937109825711 L 25.395979899497487 37.05558584080125 L 25.503015075376883 37.1174606990314 L 25.61005025125628 37.179335557261545 L 25.71708542713568 37.2412104154917 L 25.824120603015075 37.30308527372185 L 25.93115577889447 37.364960131951996 L 26.038190954773867 37.42683499018215 L 26.145226130653263 37.4887098484123 L 26.252261306532663 37.550584706642454 L 26.35929648241206 37.6124595648726 L 26.466331658291455 37.67433442310275 L 26.57336683417085 37.7362092813329 L 26.68040201005025 37.79808413956305 L 26.787437185929647 37.8599589977932 L 26.894472361809044 37.921833856023355 L 27.00150753768844 37.9837087142535 L 27.10854271356784 38.04558357248365 L 27.215577889447236 38.107458430713805 L 27.32261306532663 38.16933328894395 L 27.429648241206028 38.2312081471741 L 27.536683417085428 38.293083005404256 L 27.643718592964824 38.354957863634404 L 27.75075376884422 38.41683272186455 L 27.857788944723616 38.47870758009471 L 27.964824120603012 38.54058243832485 L 28.071859296482412 38.602457296555 L 28.178894472361808 38.66433215478516 L 28.285929648241204 38.726207013015305 L 28.3929648241206 38.78808187124545 L 28.5 38.84995672947561\",\"type\":\"path\",\"line\":{\"color\":\"rgb(228,26,28)\"}}]},                        {\"responsive\": true}                    ).then(function(){\n",
              "                            \n",
              "var gd = document.getElementById('dfe39a04-3431-4b73-82c5-27869466c34b');\n",
              "var x = new MutationObserver(function (mutations, observer) {{\n",
              "        var display = window.getComputedStyle(gd).display;\n",
              "        if (!display || display === 'none') {{\n",
              "            console.log([gd, 'removed!']);\n",
              "            Plotly.purge(gd);\n",
              "            observer.disconnect();\n",
              "        }}\n",
              "}});\n",
              "\n",
              "// Listen for the removal of the full notebook cells\n",
              "var notebookContainer = gd.closest('#notebook-container');\n",
              "if (notebookContainer) {{\n",
              "    x.observe(notebookContainer, {childList: true});\n",
              "}}\n",
              "\n",
              "// Listen for the clearing of the current output cell\n",
              "var outputEl = gd.closest('.output');\n",
              "if (outputEl) {{\n",
              "    x.observe(outputEl, {childList: true});\n",
              "}}\n",
              "\n",
              "                        })                };                            </script>        </div>\n",
              "</body>\n",
              "</html>"
            ]
          },
          "metadata": {}
        }
      ]
    },
    {
      "cell_type": "markdown",
      "source": [
        "# Training Set\n",
        "\n",
        "We begin by training our model using the _training set_, testing its performance with the same _training set_:"
      ],
      "metadata": {
        "id": "OBXQkRQN7RkN"
      }
    },
    {
      "cell_type": "code",
      "source": [
        "import statsmodels.formula.api as smf\n",
        "from sklearn.metrics import mean_squared_error as mse\n",
        "\n",
        "# First, we define our formula using a special syntax\n",
        "# This says that rescues_last_year is explained by weight_last_year\n",
        "formula = \"rescues_last_year ~ weight_last_year\"\n",
        "\n",
        "# Create and train the model\n",
        "model = smf.ols(formula = formula, data = train).fit()\n",
        "\n",
        "# Graph the result against the data\n",
        "graphing.scatter_2D(train, \"weight_last_year\", \"rescues_last_year\", trendline = lambda x: model.params[1] * x + model.params[0])"
      ],
      "metadata": {
        "colab": {
          "base_uri": "https://localhost:8080/",
          "height": 417
        },
        "id": "8SHWxiij7SMs",
        "outputId": "14186263-9b22-4929-e0b6-b91d7245057c"
      },
      "execution_count": 6,
      "outputs": [
        {
          "output_type": "display_data",
          "data": {
            "text/html": [
              "<html>\n",
              "<head><meta charset=\"utf-8\" /></head>\n",
              "<body>\n",
              "    <div>            <script src=\"https://cdnjs.cloudflare.com/ajax/libs/mathjax/2.7.5/MathJax.js?config=TeX-AMS-MML_SVG\"></script><script type=\"text/javascript\">if (window.MathJax && window.MathJax.Hub && window.MathJax.Hub.Config) {window.MathJax.Hub.Config({SVG: {font: \"STIX-Web\"}});}</script>                <script type=\"text/javascript\">window.PlotlyConfig = {MathJaxConfig: 'local'};</script>\n",
              "        <script src=\"https://cdn.plot.ly/plotly-2.18.2.min.js\"></script>                <div id=\"df988ec0-0cc8-49da-b9f7-3fa8f3827a40\" class=\"plotly-graph-div\" style=\"height:400px; width:100%;\"></div>            <script type=\"text/javascript\">                                    window.PLOTLYENV=window.PLOTLYENV || {};                                    if (document.getElementById(\"df988ec0-0cc8-49da-b9f7-3fa8f3827a40\")) {                    Plotly.newPlot(                        \"df988ec0-0cc8-49da-b9f7-3fa8f3827a40\",                        [{\"hovertemplate\":\"weight last year=%{x}<br>rescues last year=%{y}<extra></extra>\",\"legendgroup\":\"\",\"marker\":{\"color\":\"#636efa\",\"symbol\":\"circle\",\"size\":19},\"mode\":\"markers\",\"name\":\"\",\"orientation\":\"v\",\"showlegend\":false,\"x\":[19.4,14.5,19.5,16.1,23.0,7.2,16.9,23.5,21.0,17.2,12.6,14.0,16.5,11.4,21.2,13.7,14.6,22.7,19.5,13.1,17.8,12.4,18.6,9.3,23.1,14.8,18.6,19.4,14.3,14.5,16.2,21.4,18.4,19.6,20.2],\"xaxis\":\"x\",\"y\":[30,35,36,31,37,27,29,29,29,36,30,30,38,20,39,29,31,38,30,26,33,25,33,29,37,26,39,37,32,35,44,42,30,36,30],\"yaxis\":\"y\",\"type\":\"scatter\"}],                        {\"template\":{\"data\":{\"barpolar\":[{\"marker\":{\"line\":{\"color\":\"white\",\"width\":0.5},\"pattern\":{\"fillmode\":\"overlay\",\"size\":10,\"solidity\":0.2}},\"type\":\"barpolar\"}],\"bar\":[{\"error_x\":{\"color\":\"#2a3f5f\"},\"error_y\":{\"color\":\"#2a3f5f\"},\"marker\":{\"line\":{\"color\":\"white\",\"width\":0.5},\"pattern\":{\"fillmode\":\"overlay\",\"size\":10,\"solidity\":0.2}},\"type\":\"bar\"}],\"carpet\":[{\"aaxis\":{\"endlinecolor\":\"#2a3f5f\",\"gridcolor\":\"#C8D4E3\",\"linecolor\":\"#C8D4E3\",\"minorgridcolor\":\"#C8D4E3\",\"startlinecolor\":\"#2a3f5f\"},\"baxis\":{\"endlinecolor\":\"#2a3f5f\",\"gridcolor\":\"#C8D4E3\",\"linecolor\":\"#C8D4E3\",\"minorgridcolor\":\"#C8D4E3\",\"startlinecolor\":\"#2a3f5f\"},\"type\":\"carpet\"}],\"choropleth\":[{\"colorbar\":{\"outlinewidth\":0,\"ticks\":\"\"},\"type\":\"choropleth\"}],\"contourcarpet\":[{\"colorbar\":{\"outlinewidth\":0,\"ticks\":\"\"},\"type\":\"contourcarpet\"}],\"contour\":[{\"colorbar\":{\"outlinewidth\":0,\"ticks\":\"\"},\"colorscale\":[[0.0,\"#0d0887\"],[0.1111111111111111,\"#46039f\"],[0.2222222222222222,\"#7201a8\"],[0.3333333333333333,\"#9c179e\"],[0.4444444444444444,\"#bd3786\"],[0.5555555555555556,\"#d8576b\"],[0.6666666666666666,\"#ed7953\"],[0.7777777777777778,\"#fb9f3a\"],[0.8888888888888888,\"#fdca26\"],[1.0,\"#f0f921\"]],\"type\":\"contour\"}],\"heatmapgl\":[{\"colorbar\":{\"outlinewidth\":0,\"ticks\":\"\"},\"colorscale\":[[0.0,\"#0d0887\"],[0.1111111111111111,\"#46039f\"],[0.2222222222222222,\"#7201a8\"],[0.3333333333333333,\"#9c179e\"],[0.4444444444444444,\"#bd3786\"],[0.5555555555555556,\"#d8576b\"],[0.6666666666666666,\"#ed7953\"],[0.7777777777777778,\"#fb9f3a\"],[0.8888888888888888,\"#fdca26\"],[1.0,\"#f0f921\"]],\"type\":\"heatmapgl\"}],\"heatmap\":[{\"colorbar\":{\"outlinewidth\":0,\"ticks\":\"\"},\"colorscale\":[[0.0,\"#0d0887\"],[0.1111111111111111,\"#46039f\"],[0.2222222222222222,\"#7201a8\"],[0.3333333333333333,\"#9c179e\"],[0.4444444444444444,\"#bd3786\"],[0.5555555555555556,\"#d8576b\"],[0.6666666666666666,\"#ed7953\"],[0.7777777777777778,\"#fb9f3a\"],[0.8888888888888888,\"#fdca26\"],[1.0,\"#f0f921\"]],\"type\":\"heatmap\"}],\"histogram2dcontour\":[{\"colorbar\":{\"outlinewidth\":0,\"ticks\":\"\"},\"colorscale\":[[0.0,\"#0d0887\"],[0.1111111111111111,\"#46039f\"],[0.2222222222222222,\"#7201a8\"],[0.3333333333333333,\"#9c179e\"],[0.4444444444444444,\"#bd3786\"],[0.5555555555555556,\"#d8576b\"],[0.6666666666666666,\"#ed7953\"],[0.7777777777777778,\"#fb9f3a\"],[0.8888888888888888,\"#fdca26\"],[1.0,\"#f0f921\"]],\"type\":\"histogram2dcontour\"}],\"histogram2d\":[{\"colorbar\":{\"outlinewidth\":0,\"ticks\":\"\"},\"colorscale\":[[0.0,\"#0d0887\"],[0.1111111111111111,\"#46039f\"],[0.2222222222222222,\"#7201a8\"],[0.3333333333333333,\"#9c179e\"],[0.4444444444444444,\"#bd3786\"],[0.5555555555555556,\"#d8576b\"],[0.6666666666666666,\"#ed7953\"],[0.7777777777777778,\"#fb9f3a\"],[0.8888888888888888,\"#fdca26\"],[1.0,\"#f0f921\"]],\"type\":\"histogram2d\"}],\"histogram\":[{\"marker\":{\"pattern\":{\"fillmode\":\"overlay\",\"size\":10,\"solidity\":0.2},\"line\":{\"width\":1}},\"type\":\"histogram\"}],\"mesh3d\":[{\"colorbar\":{\"outlinewidth\":0,\"ticks\":\"\"},\"type\":\"mesh3d\"}],\"parcoords\":[{\"line\":{\"colorbar\":{\"outlinewidth\":0,\"ticks\":\"\"}},\"type\":\"parcoords\"}],\"pie\":[{\"automargin\":true,\"type\":\"pie\"}],\"scatter3d\":[{\"line\":{\"colorbar\":{\"outlinewidth\":0,\"ticks\":\"\"}},\"marker\":{\"colorbar\":{\"outlinewidth\":0,\"ticks\":\"\"},\"opacity\":0.8},\"type\":\"scatter3d\"}],\"scattercarpet\":[{\"marker\":{\"colorbar\":{\"outlinewidth\":0,\"ticks\":\"\"}},\"type\":\"scattercarpet\"}],\"scattergeo\":[{\"marker\":{\"colorbar\":{\"outlinewidth\":0,\"ticks\":\"\"}},\"type\":\"scattergeo\"}],\"scattergl\":[{\"marker\":{\"colorbar\":{\"outlinewidth\":0,\"ticks\":\"\"}},\"type\":\"scattergl\"}],\"scattermapbox\":[{\"marker\":{\"colorbar\":{\"outlinewidth\":0,\"ticks\":\"\"}},\"type\":\"scattermapbox\"}],\"scatterpolargl\":[{\"marker\":{\"colorbar\":{\"outlinewidth\":0,\"ticks\":\"\"}},\"type\":\"scatterpolargl\"}],\"scatterpolar\":[{\"marker\":{\"colorbar\":{\"outlinewidth\":0,\"ticks\":\"\"}},\"type\":\"scatterpolar\"}],\"scatter\":[{\"fillpattern\":{\"fillmode\":\"overlay\",\"size\":10,\"solidity\":0.2},\"type\":\"scatter\",\"marker\":{\"opacity\":0.8}}],\"scatterternary\":[{\"marker\":{\"colorbar\":{\"outlinewidth\":0,\"ticks\":\"\"}},\"type\":\"scatterternary\"}],\"surface\":[{\"colorbar\":{\"outlinewidth\":0,\"ticks\":\"\"},\"colorscale\":[[0.0,\"#0d0887\"],[0.1111111111111111,\"#46039f\"],[0.2222222222222222,\"#7201a8\"],[0.3333333333333333,\"#9c179e\"],[0.4444444444444444,\"#bd3786\"],[0.5555555555555556,\"#d8576b\"],[0.6666666666666666,\"#ed7953\"],[0.7777777777777778,\"#fb9f3a\"],[0.8888888888888888,\"#fdca26\"],[1.0,\"#f0f921\"]],\"type\":\"surface\"}],\"table\":[{\"cells\":{\"fill\":{\"color\":\"#EBF0F8\"},\"line\":{\"color\":\"white\"}},\"header\":{\"fill\":{\"color\":\"#C8D4E3\"},\"line\":{\"color\":\"white\"}},\"type\":\"table\"}],\"box\":[{\"boxpoints\":\"outliers\",\"notched\":false,\"type\":\"box\"}]},\"layout\":{\"annotationdefaults\":{\"arrowcolor\":\"#2a3f5f\",\"arrowhead\":0,\"arrowwidth\":1},\"autotypenumbers\":\"strict\",\"coloraxis\":{\"colorbar\":{\"outlinewidth\":0,\"ticks\":\"\"}},\"colorscale\":{\"diverging\":[[0,\"#8e0152\"],[0.1,\"#c51b7d\"],[0.2,\"#de77ae\"],[0.3,\"#f1b6da\"],[0.4,\"#fde0ef\"],[0.5,\"#f7f7f7\"],[0.6,\"#e6f5d0\"],[0.7,\"#b8e186\"],[0.8,\"#7fbc41\"],[0.9,\"#4d9221\"],[1,\"#276419\"]],\"sequential\":[[0.0,\"#0d0887\"],[0.1111111111111111,\"#46039f\"],[0.2222222222222222,\"#7201a8\"],[0.3333333333333333,\"#9c179e\"],[0.4444444444444444,\"#bd3786\"],[0.5555555555555556,\"#d8576b\"],[0.6666666666666666,\"#ed7953\"],[0.7777777777777778,\"#fb9f3a\"],[0.8888888888888888,\"#fdca26\"],[1.0,\"#f0f921\"]],\"sequentialminus\":[[0.0,\"#0d0887\"],[0.1111111111111111,\"#46039f\"],[0.2222222222222222,\"#7201a8\"],[0.3333333333333333,\"#9c179e\"],[0.4444444444444444,\"#bd3786\"],[0.5555555555555556,\"#d8576b\"],[0.6666666666666666,\"#ed7953\"],[0.7777777777777778,\"#fb9f3a\"],[0.8888888888888888,\"#fdca26\"],[1.0,\"#f0f921\"]]},\"colorway\":[\"#636efa\",\"#EF553B\",\"#00cc96\",\"#ab63fa\",\"#FFA15A\",\"#19d3f3\",\"#FF6692\",\"#B6E880\",\"#FF97FF\",\"#FECB52\"],\"font\":{\"color\":\"#2a3f5f\"},\"geo\":{\"bgcolor\":\"white\",\"lakecolor\":\"white\",\"landcolor\":\"white\",\"showlakes\":true,\"showland\":true,\"subunitcolor\":\"#C8D4E3\"},\"hoverlabel\":{\"align\":\"left\"},\"hovermode\":\"closest\",\"mapbox\":{\"style\":\"light\"},\"paper_bgcolor\":\"white\",\"plot_bgcolor\":\"white\",\"polar\":{\"angularaxis\":{\"gridcolor\":\"#EBF0F8\",\"linecolor\":\"#EBF0F8\",\"ticks\":\"\"},\"bgcolor\":\"white\",\"radialaxis\":{\"gridcolor\":\"#EBF0F8\",\"linecolor\":\"#EBF0F8\",\"ticks\":\"\"}},\"scene\":{\"xaxis\":{\"backgroundcolor\":\"white\",\"gridcolor\":\"#DFE8F3\",\"gridwidth\":2,\"linecolor\":\"#EBF0F8\",\"showbackground\":true,\"ticks\":\"\",\"zerolinecolor\":\"#EBF0F8\"},\"yaxis\":{\"backgroundcolor\":\"white\",\"gridcolor\":\"#DFE8F3\",\"gridwidth\":2,\"linecolor\":\"#EBF0F8\",\"showbackground\":true,\"ticks\":\"\",\"zerolinecolor\":\"#EBF0F8\"},\"zaxis\":{\"backgroundcolor\":\"white\",\"gridcolor\":\"#DFE8F3\",\"gridwidth\":2,\"linecolor\":\"#EBF0F8\",\"showbackground\":true,\"ticks\":\"\",\"zerolinecolor\":\"#EBF0F8\"},\"camera\":{\"eye\":{\"x\":1.5,\"y\":1.5,\"z\":0.1}}},\"shapedefaults\":{\"line\":{\"color\":\"#2a3f5f\"}},\"ternary\":{\"aaxis\":{\"gridcolor\":\"#DFE8F3\",\"linecolor\":\"#A2B1C6\",\"ticks\":\"\"},\"baxis\":{\"gridcolor\":\"#DFE8F3\",\"linecolor\":\"#A2B1C6\",\"ticks\":\"\"},\"bgcolor\":\"white\",\"caxis\":{\"gridcolor\":\"#DFE8F3\",\"linecolor\":\"#A2B1C6\",\"ticks\":\"\"}},\"title\":{\"x\":0.5},\"xaxis\":{\"automargin\":true,\"gridcolor\":\"#EBF0F8\",\"linecolor\":\"#EBF0F8\",\"ticks\":\"\",\"title\":{\"standoff\":15},\"zerolinecolor\":\"#EBF0F8\",\"zerolinewidth\":2,\"linewidth\":2,\"showline\":true},\"yaxis\":{\"automargin\":true,\"gridcolor\":\"#EBF0F8\",\"linecolor\":\"#EBF0F8\",\"ticks\":\"\",\"title\":{\"standoff\":15},\"zerolinecolor\":\"#EBF0F8\",\"zerolinewidth\":2,\"linewidth\":2,\"showline\":true},\"height\":400,\"margin\":{\"b\":2,\"l\":2,\"r\":2,\"t\":30}}},\"xaxis\":{\"anchor\":\"y\",\"domain\":[0.0,1.0],\"title\":{\"text\":\"weight last year\"}},\"yaxis\":{\"anchor\":\"x\",\"domain\":[0.0,1.0],\"title\":{\"text\":\"rescues last year\"}},\"legend\":{\"tracegroupgap\":0},\"shapes\":[{\"path\":\"M7.2 25.780056775396908 L 7.281909547738693 25.83614601896565 L 7.363819095477387 25.8922352625344 L 7.44572864321608 25.94832450610314 L 7.527638190954774 26.00441374967189 L 7.609547738693467 26.060502993240632 L 7.691457286432161 26.116592236809378 L 7.773366834170854 26.172681480378124 L 7.8552763819095475 26.22877072394687 L 7.937185929648241 26.284859967515615 L 8.019095477386935 26.34094921108436 L 8.101005025125628 26.397038454653106 L 8.182914572864322 26.45312769822185 L 8.264824120603015 26.509216941790594 L 8.34673366834171 26.56530618535934 L 8.428643216080403 26.621395428928086 L 8.510552763819096 26.67748467249683 L 8.592462311557789 26.733573916065577 L 8.674371859296482 26.789663159634323 L 8.756281407035177 26.84575240320307 L 8.83819095477387 26.901841646771814 L 8.920100502512563 26.95793089034056 L 9.002010050251256 27.014020133909305 L 9.08391959798995 27.07010937747805 L 9.165829145728644 27.126198621046797 L 9.247738693467337 27.18228786461554 L 9.32964824120603 27.238377108184284 L 9.411557788944723 27.29446635175303 L 9.493467336683416 27.350555595321776 L 9.575376884422111 27.40664483889052 L 9.657286432160804 27.462734082459267 L 9.739195979899497 27.518823326028013 L 9.821105527638192 27.57491256959676 L 9.903015075376885 27.631001813165504 L 9.984924623115578 27.687091056734246 L 10.066834170854271 27.743180300302992 L 10.148743718592964 27.799269543871738 L 10.230653266331657 27.855358787440483 L 10.312562814070352 27.91144803100923 L 10.394472361809045 27.967537274577975 L 10.476381909547738 28.02362651814672 L 10.558291457286433 28.079715761715466 L 10.640201005025126 28.13580500528421 L 10.72211055276382 28.191894248852954 L 10.804020100502512 28.2479834924217 L 10.885929648241206 28.304072735990445 L 10.967839195979899 28.36016197955919 L 11.049748743718594 28.416251223127936 L 11.131658291457287 28.472340466696682 L 11.21356783919598 28.528429710265428 L 11.295477386934675 28.584518953834174 L 11.377386934673368 28.64060819740292 L 11.45929648241206 28.696697440971665 L 11.541206030150754 28.75278668454041 L 11.623115577889447 28.808875928109153 L 11.70502512562814 28.8649651716779 L 11.786934673366833 28.921054415246644 L 11.868844221105528 28.97714365881539 L 11.950753768844221 29.033232902384135 L 12.032663316582916 29.08932214595288 L 12.114572864321609 29.145411389521627 L 12.196482412060302 29.20150063309037 L 12.278391959798995 29.257589876659118 L 12.360301507537688 29.31367912022786 L 12.442211055276381 29.369768363796606 L 12.524120603015074 29.42585760736535 L 12.606030150753769 29.481946850934097 L 12.687939698492462 29.538036094502843 L 12.769849246231157 29.59412533807159 L 12.85175879396985 29.650214581640334 L 12.933668341708543 29.70630382520908 L 13.015577889447236 29.762393068777826 L 13.09748743718593 29.818482312346568 L 13.179396984924622 29.874571555915317 L 13.261306532663315 29.93066079948406 L 13.34321608040201 29.986750043052808 L 13.425125628140703 30.04283928662155 L 13.507035175879398 30.0989285301903 L 13.588944723618091 30.15501777375904 L 13.670854271356784 30.211107017327787 L 13.752763819095478 30.267196260896533 L 13.83467336683417 30.323285504465275 L 13.916582914572864 30.379374748034024 L 13.998492462311557 30.435463991602766 L 14.080402010050252 30.491553235171516 L 14.162311557788945 30.547642478740258 L 14.24422110552764 30.603731722309007 L 14.326130653266333 30.65982096587775 L 14.408040201005026 30.715910209446495 L 14.489949748743719 30.77199945301524 L 14.571859296482412 30.828088696583983 L 14.653768844221105 30.884177940152732 L 14.735678391959798 30.940267183721474 L 14.817587939698493 30.996356427290223 L 14.899497487437186 31.052445670858965 L 14.98140703517588 31.108534914427715 L 15.063316582914574 31.164624157996457 L 15.145226130653267 31.220713401565202 L 15.22713567839196 31.276802645133948 L 15.309045226130653 31.332891888702694 L 15.390954773869346 31.38898113227144 L 15.47286432160804 31.44507037584018 L 15.554773869346732 31.50115961940893 L 15.636683417085429 31.557248862977676 L 15.718592964824122 31.613338106546422 L 15.800502512562815 31.669427350115164 L 15.882412060301508 31.725516593683913 L 15.964321608040201 31.781605837252656 L 16.046231155778894 31.8376950808214 L 16.128140703517587 31.893784324390147 L 16.21005025125628 31.94987356795889 L 16.291959798994974 32.00596281152764 L 16.373869346733667 32.06205205509638 L 16.455778894472363 32.11814129866513 L 16.537688442211056 32.17423054223387 L 16.61959798994975 32.23031978580262 L 16.701507537688443 32.28640902937136 L 16.783417085427136 32.342498272940105 L 16.86532663316583 32.398587516508854 L 16.94723618090452 32.4546767600776 L 17.029145728643215 32.510766003646346 L 17.111055276381908 32.56685524721509 L 17.192964824120605 32.62294449078384 L 17.274874371859298 32.67903373435258 L 17.35678391959799 32.73512297792133 L 17.438693467336684 32.79121222149007 L 17.520603015075377 32.84730146505882 L 17.60251256281407 32.90339070862756 L 17.684422110552763 32.959479952196304 L 17.766331658291456 33.01556919576505 L 17.84824120603015 33.071658439333795 L 17.930150753768846 33.127747682902545 L 18.01206030150754 33.18383692647129 L 18.093969849246232 33.239926170040036 L 18.175879396984925 33.29601541360878 L 18.257788944723618 33.35210465717753 L 18.33969849246231 33.40819390074627 L 18.421608040201004 33.46428314431502 L 18.503517587939697 33.52037238788376 L 18.58542713567839 33.5764616314525 L 18.667336683417087 33.63255087502125 L 18.74924623115578 33.68864011859 L 18.831155778894473 33.74472936215874 L 18.913065326633166 33.800818605727486 L 18.99497487437186 33.856907849296235 L 19.076884422110552 33.91299709286498 L 19.158793969849246 33.96908633643372 L 19.24070351758794 34.02517558000247 L 19.32261306532663 34.08126482357121 L 19.40452261306533 34.13735406713996 L 19.48643216080402 34.1934433107087 L 19.568341708542714 34.24953255427745 L 19.650251256281408 34.30562179784619 L 19.7321608040201 34.36171104141494 L 19.814070351758794 34.417800284983684 L 19.895979899497487 34.473889528552434 L 19.97788944723618 34.529978772121176 L 20.059798994974873 34.58606801568992 L 20.14170854271357 34.64215725925867 L 20.223618090452263 34.698246502827416 L 20.305527638190956 34.75433574639616 L 20.38743718592965 34.8104249899649 L 20.469346733668342 34.86651423353365 L 20.551256281407035 34.92260347710239 L 20.633165829145728 34.97869272067114 L 20.71507537688442 35.03478196423988 L 20.796984924623114 35.09087120780863 L 20.87889447236181 35.146960451377375 L 20.960804020100504 35.203049694946124 L 21.042713567839197 35.259138938514866 L 21.12462311557789 35.315228182083615 L 21.206532663316583 35.37131742565236 L 21.288442211055276 35.4274066692211 L 21.37035175879397 35.48349591278985 L 21.452261306532662 35.53958515635859 L 21.534170854271355 35.59567439992733 L 21.61608040201005 35.65176364349608 L 21.697989949748745 35.70785288706483 L 21.77989949748744 35.76394213063357 L 21.86180904522613 35.820031374202316 L 21.943718592964824 35.876120617771065 L 22.025628140703517 35.93220986133981 L 22.10753768844221 35.988299104908556 L 22.189447236180904 36.0443883484773 L 22.271356783919597 36.10047759204605 L 22.35326633165829 36.15656683561479 L 22.435175879396986 36.21265607918354 L 22.51708542713568 36.26874532275228 L 22.598994974874373 36.32483456632103 L 22.680904522613066 36.38092380988977 L 22.76281407035176 36.437013053458514 L 22.844723618090452 36.493102297027264 L 22.926633165829145 36.549191540596006 L 23.008542713567838 36.605280784164755 L 23.09045226130653 36.6613700277335 L 23.172361809045228 36.717459271302246 L 23.254271356783917 36.77354851487099 L 23.336180904522614 36.82963775843974 L 23.418090452261307 36.88572700200848 L 23.5 36.94181624557723\",\"type\":\"path\",\"line\":{\"color\":\"rgb(228,26,28)\"}}]},                        {\"responsive\": true}                    ).then(function(){\n",
              "                            \n",
              "var gd = document.getElementById('df988ec0-0cc8-49da-b9f7-3fa8f3827a40');\n",
              "var x = new MutationObserver(function (mutations, observer) {{\n",
              "        var display = window.getComputedStyle(gd).display;\n",
              "        if (!display || display === 'none') {{\n",
              "            console.log([gd, 'removed!']);\n",
              "            Plotly.purge(gd);\n",
              "            observer.disconnect();\n",
              "        }}\n",
              "}});\n",
              "\n",
              "// Listen for the removal of the full notebook cells\n",
              "var notebookContainer = gd.closest('#notebook-container');\n",
              "if (notebookContainer) {{\n",
              "    x.observe(notebookContainer, {childList: true});\n",
              "}}\n",
              "\n",
              "// Listen for the clearing of the current output cell\n",
              "var outputEl = gd.closest('.output');\n",
              "if (outputEl) {{\n",
              "    x.observe(outputEl, {childList: true});\n",
              "}}\n",
              "\n",
              "                        })                };                            </script>        </div>\n",
              "</body>\n",
              "</html>"
            ]
          },
          "metadata": {}
        }
      ]
    },
    {
      "cell_type": "markdown",
      "source": [
        "We can gauge our model's performance by calculating the _mean squared error_ (MSE)."
      ],
      "metadata": {
        "id": "jPXu6_CU7em2"
      }
    },
    {
      "cell_type": "code",
      "source": [
        "# We use the in-buit sklearn function to calculate the MSE\n",
        "correct_labels = train['rescues_last_year']\n",
        "predicted = model.predict(train['weight_last_year'])\n",
        "\n",
        "MSE = mse(correct_labels, predicted)\n",
        "print('MSE = %f ' % MSE)"
      ],
      "metadata": {
        "colab": {
          "base_uri": "https://localhost:8080/"
        },
        "id": "dMksg1wv7fCK",
        "outputId": "69ab3c79-8673-4b01-d69b-25d19a3c43da"
      },
      "execution_count": 7,
      "outputs": [
        {
          "output_type": "stream",
          "name": "stdout",
          "text": [
            "MSE = 18.674546 \n"
          ]
        }
      ]
    },
    {
      "cell_type": "markdown",
      "source": [
        "# Test Set\n",
        "\n",
        "Next, we test the same model's performance using the _test set_:"
      ],
      "metadata": {
        "id": "jf2l2mTw7vVK"
      }
    },
    {
      "cell_type": "code",
      "source": [
        "graphing.scatter_2D(test, \"weight_last_year\", \"rescues_last_year\", trendline = lambda x: model.params[1] * x + model.params[0])"
      ],
      "metadata": {
        "colab": {
          "base_uri": "https://localhost:8080/",
          "height": 417
        },
        "id": "eiOs0T2A7wgl",
        "outputId": "13ba99ee-0f87-4b39-e4e0-40ce7bd4f426"
      },
      "execution_count": 8,
      "outputs": [
        {
          "output_type": "display_data",
          "data": {
            "text/html": [
              "<html>\n",
              "<head><meta charset=\"utf-8\" /></head>\n",
              "<body>\n",
              "    <div>            <script src=\"https://cdnjs.cloudflare.com/ajax/libs/mathjax/2.7.5/MathJax.js?config=TeX-AMS-MML_SVG\"></script><script type=\"text/javascript\">if (window.MathJax && window.MathJax.Hub && window.MathJax.Hub.Config) {window.MathJax.Hub.Config({SVG: {font: \"STIX-Web\"}});}</script>                <script type=\"text/javascript\">window.PlotlyConfig = {MathJaxConfig: 'local'};</script>\n",
              "        <script src=\"https://cdn.plot.ly/plotly-2.18.2.min.js\"></script>                <div id=\"c88fd097-6d94-4678-bc27-9a1b57940a9d\" class=\"plotly-graph-div\" style=\"height:400px; width:100%;\"></div>            <script type=\"text/javascript\">                                    window.PLOTLYENV=window.PLOTLYENV || {};                                    if (document.getElementById(\"c88fd097-6d94-4678-bc27-9a1b57940a9d\")) {                    Plotly.newPlot(                        \"c88fd097-6d94-4678-bc27-9a1b57940a9d\",                        [{\"hovertemplate\":\"weight last year=%{x}<br>rescues last year=%{y}<extra></extra>\",\"legendgroup\":\"\",\"marker\":{\"color\":\"#636efa\",\"symbol\":\"circle\",\"size\":19},\"mode\":\"markers\",\"name\":\"\",\"orientation\":\"v\",\"showlegend\":false,\"x\":[17.1,15.4,20.0,22.2,18.3,17.7,20.6,22.5,19.6,17.1,21.6,21.1,19.1,17.8,28.5],\"xaxis\":\"x\",\"y\":[37,25,26,32,32,34,40,28,35,30,44,35,34,32,34],\"yaxis\":\"y\",\"type\":\"scatter\"}],                        {\"template\":{\"data\":{\"barpolar\":[{\"marker\":{\"line\":{\"color\":\"white\",\"width\":0.5},\"pattern\":{\"fillmode\":\"overlay\",\"size\":10,\"solidity\":0.2}},\"type\":\"barpolar\"}],\"bar\":[{\"error_x\":{\"color\":\"#2a3f5f\"},\"error_y\":{\"color\":\"#2a3f5f\"},\"marker\":{\"line\":{\"color\":\"white\",\"width\":0.5},\"pattern\":{\"fillmode\":\"overlay\",\"size\":10,\"solidity\":0.2}},\"type\":\"bar\"}],\"carpet\":[{\"aaxis\":{\"endlinecolor\":\"#2a3f5f\",\"gridcolor\":\"#C8D4E3\",\"linecolor\":\"#C8D4E3\",\"minorgridcolor\":\"#C8D4E3\",\"startlinecolor\":\"#2a3f5f\"},\"baxis\":{\"endlinecolor\":\"#2a3f5f\",\"gridcolor\":\"#C8D4E3\",\"linecolor\":\"#C8D4E3\",\"minorgridcolor\":\"#C8D4E3\",\"startlinecolor\":\"#2a3f5f\"},\"type\":\"carpet\"}],\"choropleth\":[{\"colorbar\":{\"outlinewidth\":0,\"ticks\":\"\"},\"type\":\"choropleth\"}],\"contourcarpet\":[{\"colorbar\":{\"outlinewidth\":0,\"ticks\":\"\"},\"type\":\"contourcarpet\"}],\"contour\":[{\"colorbar\":{\"outlinewidth\":0,\"ticks\":\"\"},\"colorscale\":[[0.0,\"#0d0887\"],[0.1111111111111111,\"#46039f\"],[0.2222222222222222,\"#7201a8\"],[0.3333333333333333,\"#9c179e\"],[0.4444444444444444,\"#bd3786\"],[0.5555555555555556,\"#d8576b\"],[0.6666666666666666,\"#ed7953\"],[0.7777777777777778,\"#fb9f3a\"],[0.8888888888888888,\"#fdca26\"],[1.0,\"#f0f921\"]],\"type\":\"contour\"}],\"heatmapgl\":[{\"colorbar\":{\"outlinewidth\":0,\"ticks\":\"\"},\"colorscale\":[[0.0,\"#0d0887\"],[0.1111111111111111,\"#46039f\"],[0.2222222222222222,\"#7201a8\"],[0.3333333333333333,\"#9c179e\"],[0.4444444444444444,\"#bd3786\"],[0.5555555555555556,\"#d8576b\"],[0.6666666666666666,\"#ed7953\"],[0.7777777777777778,\"#fb9f3a\"],[0.8888888888888888,\"#fdca26\"],[1.0,\"#f0f921\"]],\"type\":\"heatmapgl\"}],\"heatmap\":[{\"colorbar\":{\"outlinewidth\":0,\"ticks\":\"\"},\"colorscale\":[[0.0,\"#0d0887\"],[0.1111111111111111,\"#46039f\"],[0.2222222222222222,\"#7201a8\"],[0.3333333333333333,\"#9c179e\"],[0.4444444444444444,\"#bd3786\"],[0.5555555555555556,\"#d8576b\"],[0.6666666666666666,\"#ed7953\"],[0.7777777777777778,\"#fb9f3a\"],[0.8888888888888888,\"#fdca26\"],[1.0,\"#f0f921\"]],\"type\":\"heatmap\"}],\"histogram2dcontour\":[{\"colorbar\":{\"outlinewidth\":0,\"ticks\":\"\"},\"colorscale\":[[0.0,\"#0d0887\"],[0.1111111111111111,\"#46039f\"],[0.2222222222222222,\"#7201a8\"],[0.3333333333333333,\"#9c179e\"],[0.4444444444444444,\"#bd3786\"],[0.5555555555555556,\"#d8576b\"],[0.6666666666666666,\"#ed7953\"],[0.7777777777777778,\"#fb9f3a\"],[0.8888888888888888,\"#fdca26\"],[1.0,\"#f0f921\"]],\"type\":\"histogram2dcontour\"}],\"histogram2d\":[{\"colorbar\":{\"outlinewidth\":0,\"ticks\":\"\"},\"colorscale\":[[0.0,\"#0d0887\"],[0.1111111111111111,\"#46039f\"],[0.2222222222222222,\"#7201a8\"],[0.3333333333333333,\"#9c179e\"],[0.4444444444444444,\"#bd3786\"],[0.5555555555555556,\"#d8576b\"],[0.6666666666666666,\"#ed7953\"],[0.7777777777777778,\"#fb9f3a\"],[0.8888888888888888,\"#fdca26\"],[1.0,\"#f0f921\"]],\"type\":\"histogram2d\"}],\"histogram\":[{\"marker\":{\"pattern\":{\"fillmode\":\"overlay\",\"size\":10,\"solidity\":0.2},\"line\":{\"width\":1}},\"type\":\"histogram\"}],\"mesh3d\":[{\"colorbar\":{\"outlinewidth\":0,\"ticks\":\"\"},\"type\":\"mesh3d\"}],\"parcoords\":[{\"line\":{\"colorbar\":{\"outlinewidth\":0,\"ticks\":\"\"}},\"type\":\"parcoords\"}],\"pie\":[{\"automargin\":true,\"type\":\"pie\"}],\"scatter3d\":[{\"line\":{\"colorbar\":{\"outlinewidth\":0,\"ticks\":\"\"}},\"marker\":{\"colorbar\":{\"outlinewidth\":0,\"ticks\":\"\"},\"opacity\":0.8},\"type\":\"scatter3d\"}],\"scattercarpet\":[{\"marker\":{\"colorbar\":{\"outlinewidth\":0,\"ticks\":\"\"}},\"type\":\"scattercarpet\"}],\"scattergeo\":[{\"marker\":{\"colorbar\":{\"outlinewidth\":0,\"ticks\":\"\"}},\"type\":\"scattergeo\"}],\"scattergl\":[{\"marker\":{\"colorbar\":{\"outlinewidth\":0,\"ticks\":\"\"}},\"type\":\"scattergl\"}],\"scattermapbox\":[{\"marker\":{\"colorbar\":{\"outlinewidth\":0,\"ticks\":\"\"}},\"type\":\"scattermapbox\"}],\"scatterpolargl\":[{\"marker\":{\"colorbar\":{\"outlinewidth\":0,\"ticks\":\"\"}},\"type\":\"scatterpolargl\"}],\"scatterpolar\":[{\"marker\":{\"colorbar\":{\"outlinewidth\":0,\"ticks\":\"\"}},\"type\":\"scatterpolar\"}],\"scatter\":[{\"fillpattern\":{\"fillmode\":\"overlay\",\"size\":10,\"solidity\":0.2},\"type\":\"scatter\",\"marker\":{\"opacity\":0.8}}],\"scatterternary\":[{\"marker\":{\"colorbar\":{\"outlinewidth\":0,\"ticks\":\"\"}},\"type\":\"scatterternary\"}],\"surface\":[{\"colorbar\":{\"outlinewidth\":0,\"ticks\":\"\"},\"colorscale\":[[0.0,\"#0d0887\"],[0.1111111111111111,\"#46039f\"],[0.2222222222222222,\"#7201a8\"],[0.3333333333333333,\"#9c179e\"],[0.4444444444444444,\"#bd3786\"],[0.5555555555555556,\"#d8576b\"],[0.6666666666666666,\"#ed7953\"],[0.7777777777777778,\"#fb9f3a\"],[0.8888888888888888,\"#fdca26\"],[1.0,\"#f0f921\"]],\"type\":\"surface\"}],\"table\":[{\"cells\":{\"fill\":{\"color\":\"#EBF0F8\"},\"line\":{\"color\":\"white\"}},\"header\":{\"fill\":{\"color\":\"#C8D4E3\"},\"line\":{\"color\":\"white\"}},\"type\":\"table\"}],\"box\":[{\"boxpoints\":\"outliers\",\"notched\":false,\"type\":\"box\"}]},\"layout\":{\"annotationdefaults\":{\"arrowcolor\":\"#2a3f5f\",\"arrowhead\":0,\"arrowwidth\":1},\"autotypenumbers\":\"strict\",\"coloraxis\":{\"colorbar\":{\"outlinewidth\":0,\"ticks\":\"\"}},\"colorscale\":{\"diverging\":[[0,\"#8e0152\"],[0.1,\"#c51b7d\"],[0.2,\"#de77ae\"],[0.3,\"#f1b6da\"],[0.4,\"#fde0ef\"],[0.5,\"#f7f7f7\"],[0.6,\"#e6f5d0\"],[0.7,\"#b8e186\"],[0.8,\"#7fbc41\"],[0.9,\"#4d9221\"],[1,\"#276419\"]],\"sequential\":[[0.0,\"#0d0887\"],[0.1111111111111111,\"#46039f\"],[0.2222222222222222,\"#7201a8\"],[0.3333333333333333,\"#9c179e\"],[0.4444444444444444,\"#bd3786\"],[0.5555555555555556,\"#d8576b\"],[0.6666666666666666,\"#ed7953\"],[0.7777777777777778,\"#fb9f3a\"],[0.8888888888888888,\"#fdca26\"],[1.0,\"#f0f921\"]],\"sequentialminus\":[[0.0,\"#0d0887\"],[0.1111111111111111,\"#46039f\"],[0.2222222222222222,\"#7201a8\"],[0.3333333333333333,\"#9c179e\"],[0.4444444444444444,\"#bd3786\"],[0.5555555555555556,\"#d8576b\"],[0.6666666666666666,\"#ed7953\"],[0.7777777777777778,\"#fb9f3a\"],[0.8888888888888888,\"#fdca26\"],[1.0,\"#f0f921\"]]},\"colorway\":[\"#636efa\",\"#EF553B\",\"#00cc96\",\"#ab63fa\",\"#FFA15A\",\"#19d3f3\",\"#FF6692\",\"#B6E880\",\"#FF97FF\",\"#FECB52\"],\"font\":{\"color\":\"#2a3f5f\"},\"geo\":{\"bgcolor\":\"white\",\"lakecolor\":\"white\",\"landcolor\":\"white\",\"showlakes\":true,\"showland\":true,\"subunitcolor\":\"#C8D4E3\"},\"hoverlabel\":{\"align\":\"left\"},\"hovermode\":\"closest\",\"mapbox\":{\"style\":\"light\"},\"paper_bgcolor\":\"white\",\"plot_bgcolor\":\"white\",\"polar\":{\"angularaxis\":{\"gridcolor\":\"#EBF0F8\",\"linecolor\":\"#EBF0F8\",\"ticks\":\"\"},\"bgcolor\":\"white\",\"radialaxis\":{\"gridcolor\":\"#EBF0F8\",\"linecolor\":\"#EBF0F8\",\"ticks\":\"\"}},\"scene\":{\"xaxis\":{\"backgroundcolor\":\"white\",\"gridcolor\":\"#DFE8F3\",\"gridwidth\":2,\"linecolor\":\"#EBF0F8\",\"showbackground\":true,\"ticks\":\"\",\"zerolinecolor\":\"#EBF0F8\"},\"yaxis\":{\"backgroundcolor\":\"white\",\"gridcolor\":\"#DFE8F3\",\"gridwidth\":2,\"linecolor\":\"#EBF0F8\",\"showbackground\":true,\"ticks\":\"\",\"zerolinecolor\":\"#EBF0F8\"},\"zaxis\":{\"backgroundcolor\":\"white\",\"gridcolor\":\"#DFE8F3\",\"gridwidth\":2,\"linecolor\":\"#EBF0F8\",\"showbackground\":true,\"ticks\":\"\",\"zerolinecolor\":\"#EBF0F8\"},\"camera\":{\"eye\":{\"x\":1.5,\"y\":1.5,\"z\":0.1}}},\"shapedefaults\":{\"line\":{\"color\":\"#2a3f5f\"}},\"ternary\":{\"aaxis\":{\"gridcolor\":\"#DFE8F3\",\"linecolor\":\"#A2B1C6\",\"ticks\":\"\"},\"baxis\":{\"gridcolor\":\"#DFE8F3\",\"linecolor\":\"#A2B1C6\",\"ticks\":\"\"},\"bgcolor\":\"white\",\"caxis\":{\"gridcolor\":\"#DFE8F3\",\"linecolor\":\"#A2B1C6\",\"ticks\":\"\"}},\"title\":{\"x\":0.5},\"xaxis\":{\"automargin\":true,\"gridcolor\":\"#EBF0F8\",\"linecolor\":\"#EBF0F8\",\"ticks\":\"\",\"title\":{\"standoff\":15},\"zerolinecolor\":\"#EBF0F8\",\"zerolinewidth\":2,\"linewidth\":2,\"showline\":true},\"yaxis\":{\"automargin\":true,\"gridcolor\":\"#EBF0F8\",\"linecolor\":\"#EBF0F8\",\"ticks\":\"\",\"title\":{\"standoff\":15},\"zerolinecolor\":\"#EBF0F8\",\"zerolinewidth\":2,\"linewidth\":2,\"showline\":true},\"height\":400,\"margin\":{\"b\":2,\"l\":2,\"r\":2,\"t\":30}}},\"xaxis\":{\"anchor\":\"y\",\"domain\":[0.0,1.0],\"title\":{\"text\":\"weight last year\"}},\"yaxis\":{\"anchor\":\"x\",\"domain\":[0.0,1.0],\"title\":{\"text\":\"rescues last year\"}},\"legend\":{\"tracegroupgap\":0},\"shapes\":[{\"path\":\"M15.4 31.395175036469215 L 15.465829145728643 31.440252894797467 L 15.531658291457287 31.485330753125723 L 15.59748743718593 31.53040861145398 L 15.663316582914574 31.575486469782234 L 15.729145728643216 31.62056432811049 L 15.79497487437186 31.665642186438745 L 15.860804020100502 31.710720044767 L 15.926633165829147 31.755797903095257 L 15.992462311557789 31.800875761423512 L 16.058291457286433 31.845953619751768 L 16.124120603015076 31.891031478080023 L 16.189949748743718 31.93610933640828 L 16.255778894472364 31.981187194736535 L 16.321608040201006 32.02626505306479 L 16.38743718592965 32.071342911393046 L 16.45326633165829 32.1164207697213 L 16.519095477386934 32.16149862804956 L 16.58492462311558 32.20657648637781 L 16.650753768844222 32.25165434470607 L 16.716582914572864 32.296732203034324 L 16.782412060301507 32.34181006136258 L 16.848241206030153 32.386887919690835 L 16.914070351758795 32.43196577801909 L 16.979899497487438 32.47704363634735 L 17.04572864321608 32.5221214946756 L 17.111557788944722 32.56719935300386 L 17.17738693467337 32.61227721133211 L 17.24321608040201 32.65735506966037 L 17.309045226130653 32.702432927988625 L 17.374874371859296 32.74751078631688 L 17.44070351758794 32.792588644645136 L 17.506532663316584 32.83766650297339 L 17.572361809045226 32.88274436130165 L 17.63819095477387 32.9278222196299 L 17.704020100502515 32.97290007795816 L 17.769849246231157 33.017977936286414 L 17.8356783919598 33.06305579461467 L 17.901507537688442 33.10813365294292 L 17.967336683417088 33.15321151127118 L 18.03316582914573 33.198289369599436 L 18.098994974874373 33.24336722792769 L 18.164824120603015 33.28844508625594 L 18.230653266331657 33.333522944584196 L 18.296482412060303 33.37860080291246 L 18.362311557788946 33.42367866124071 L 18.428140703517588 33.46875651956896 L 18.49396984924623 33.51383437789722 L 18.559798994974877 33.558912236225474 L 18.62562814070352 33.60399009455373 L 18.69145728643216 33.649067952881985 L 18.757286432160804 33.69414581121024 L 18.823115577889446 33.7392236695385 L 18.888944723618092 33.78430152786675 L 18.954773869346734 33.82937938619501 L 19.020603015075377 33.87445724452326 L 19.08643216080402 33.91953510285152 L 19.152261306532665 33.964612961179775 L 19.218090452261308 34.00969081950803 L 19.28391959798995 34.054768677836286 L 19.349748743718592 34.09984653616454 L 19.415577889447235 34.1449243944928 L 19.48140703517588 34.19000225282105 L 19.547236180904523 34.23508011114931 L 19.613065326633166 34.280157969477564 L 19.67889447236181 34.32523582780582 L 19.744723618090454 34.370313686134075 L 19.810552763819096 34.41539154446233 L 19.87638190954774 34.46046940279059 L 19.94221105527638 34.505547261118835 L 20.008040201005027 34.5506251194471 L 20.07386934673367 34.59570297777535 L 20.139698492462312 34.6407808361036 L 20.205527638190954 34.68585869443186 L 20.2713567839196 34.73093655276012 L 20.337185929648243 34.776014411088376 L 20.403015075376885 34.821092269416624 L 20.468844221105527 34.86617012774488 L 20.53467336683417 34.911247986073136 L 20.600502512562816 34.95632584440139 L 20.66633165829146 35.00140370272965 L 20.7321608040201 35.0464815610579 L 20.797989949748747 35.09155941938616 L 20.86381909547739 35.136637277714414 L 20.92964824120603 35.18171513604267 L 20.995477386934674 35.226792994370925 L 21.061306532663316 35.27187085269918 L 21.12713567839196 35.316948711027436 L 21.192964824120605 35.36202656935569 L 21.258793969849247 35.40710442768395 L 21.32462311557789 35.4521822860122 L 21.390452261306535 35.49726014434046 L 21.456281407035178 35.542338002668714 L 21.52211055276382 35.58741586099697 L 21.587939698492463 35.632493719325225 L 21.653768844221105 35.67757157765348 L 21.719597989949747 35.72264943598174 L 21.785427135678393 35.76772729430999 L 21.851256281407036 35.81280515263825 L 21.917085427135678 35.8578830109665 L 21.982914572864324 35.90296086929476 L 22.048743718592966 35.948038727623015 L 22.11457286432161 35.99311658595127 L 22.18040201005025 36.038194444279526 L 22.246231155778894 36.08327230260778 L 22.31206030150754 36.12835016093604 L 22.377889447236182 36.17342801926429 L 22.443718592964824 36.21850587759255 L 22.50954773869347 36.263583735920804 L 22.575376884422113 36.30866159424906 L 22.641206030150755 36.353739452577315 L 22.707035175879398 36.39881731090557 L 22.77286432160804 36.443895169233826 L 22.838693467336682 36.48897302756208 L 22.90452261306533 36.53405088589034 L 22.97035175879397 36.57912874421859 L 23.036180904522613 36.62420660254685 L 23.10201005025126 36.669284460875105 L 23.1678391959799 36.71436231920336 L 23.233668341708544 36.759440177531616 L 23.299497487437186 36.80451803585987 L 23.36532663316583 36.84959589418812 L 23.43115577889447 36.894673752516375 L 23.496984924623117 36.93975161084464 L 23.56281407035176 36.984829469172894 L 23.628643216080405 37.02990732750115 L 23.694472361809048 37.074985185829405 L 23.76030150753769 37.12006304415766 L 23.826130653266333 37.165140902485916 L 23.891959798994975 37.210218760814165 L 23.957788944723617 37.25529661914242 L 24.02361809045226 37.300374477470676 L 24.089447236180906 37.34545233579893 L 24.155276381909548 37.39053019412719 L 24.221105527638194 37.43560805245545 L 24.286934673366837 37.4806859107837 L 24.35276381909548 37.525763769111954 L 24.41859296482412 37.57084162744021 L 24.484422110552764 37.615919485768465 L 24.550251256281406 37.66099734409672 L 24.616080402010052 37.70607520242498 L 24.681909547738694 37.75115306075323 L 24.747738693467337 37.79623091908149 L 24.813567839195983 37.84130877740974 L 24.879396984924625 37.886386635738 L 24.945226130653268 37.931464494066255 L 25.01105527638191 37.97654235239451 L 25.076884422110552 38.02162021072276 L 25.142713567839195 38.066698069051014 L 25.20854271356784 38.11177592737928 L 25.274371859296483 38.156853785707526 L 25.34020100502513 38.20193164403579 L 25.40603015075377 38.247009502364044 L 25.471859296482414 38.29208736069229 L 25.537688442211056 38.33716521902055 L 25.6035175879397 38.382243077348804 L 25.66934673366834 38.42732093567706 L 25.735175879396984 38.472398794005315 L 25.80100502512563 38.51747665233357 L 25.866834170854272 38.562554510661826 L 25.932663316582918 38.60763236899008 L 25.99849246231156 38.65271022731834 L 26.064321608040203 38.69778808564659 L 26.130150753768845 38.74286594397485 L 26.195979899497488 38.787943802303104 L 26.26180904522613 38.83302166063136 L 26.327638190954776 38.878099518959615 L 26.39346733668342 38.92317737728787 L 26.45929648241206 38.96825523561613 L 26.525125628140707 39.01333309394438 L 26.59095477386935 39.05841095227264 L 26.65678391959799 39.10348881060089 L 26.722613065326634 39.14856666892915 L 26.788442211055276 39.193644527257405 L 26.85427135678392 39.23872238558566 L 26.920100502512565 39.283800243913916 L 26.985929648241207 39.32887810224217 L 27.051758793969853 39.37395596057043 L 27.117587939698495 39.41903381889868 L 27.183417085427138 39.46411167722694 L 27.24924623115578 39.509189535555194 L 27.315075376884423 39.55426739388345 L 27.380904522613065 39.599345252211705 L 27.446733668341707 39.64442311053996 L 27.512562814070353 39.68950096886822 L 27.578391959798996 39.73457882719647 L 27.64422110552764 39.77965668552473 L 27.710050251256284 39.82473454385298 L 27.775879396984926 39.86981240218124 L 27.84170854271357 39.914890260509495 L 27.90753768844221 39.95996811883775 L 27.973366834170854 40.005045977166006 L 28.039195979899496 40.05012383549426 L 28.105025125628142 40.09520169382252 L 28.170854271356784 40.14027955215077 L 28.23668341708543 40.18535741047903 L 28.302512562814073 40.230435268807284 L 28.368341708542715 40.27551312713554 L 28.434170854271358 40.320590985463795 L 28.5 40.36566884379205\",\"type\":\"path\",\"line\":{\"color\":\"rgb(228,26,28)\"}}]},                        {\"responsive\": true}                    ).then(function(){\n",
              "                            \n",
              "var gd = document.getElementById('c88fd097-6d94-4678-bc27-9a1b57940a9d');\n",
              "var x = new MutationObserver(function (mutations, observer) {{\n",
              "        var display = window.getComputedStyle(gd).display;\n",
              "        if (!display || display === 'none') {{\n",
              "            console.log([gd, 'removed!']);\n",
              "            Plotly.purge(gd);\n",
              "            observer.disconnect();\n",
              "        }}\n",
              "}});\n",
              "\n",
              "// Listen for the removal of the full notebook cells\n",
              "var notebookContainer = gd.closest('#notebook-container');\n",
              "if (notebookContainer) {{\n",
              "    x.observe(notebookContainer, {childList: true});\n",
              "}}\n",
              "\n",
              "// Listen for the clearing of the current output cell\n",
              "var outputEl = gd.closest('.output');\n",
              "if (outputEl) {{\n",
              "    x.observe(outputEl, {childList: true});\n",
              "}}\n",
              "\n",
              "                        })                };                            </script>        </div>\n",
              "</body>\n",
              "</html>"
            ]
          },
          "metadata": {}
        }
      ]
    },
    {
      "cell_type": "markdown",
      "source": [
        "Let's have a look at the MSE again."
      ],
      "metadata": {
        "id": "sNeopS_473AB"
      }
    },
    {
      "cell_type": "code",
      "source": [
        "correct_labels = test['rescues_last_year']\n",
        "predicted = model.predict(test['weight_last_year'])\n",
        "\n",
        "MSE = mse(correct_labels, predicted)\n",
        "print('MSE = %f ' % MSE)"
      ],
      "metadata": {
        "colab": {
          "base_uri": "https://localhost:8080/"
        },
        "id": "3eIYODHU73gG",
        "outputId": "ed4ed822-96dd-4293-a0ce-7974465aad4e"
      },
      "execution_count": 9,
      "outputs": [
        {
          "output_type": "stream",
          "name": "stdout",
          "text": [
            "MSE = 24.352949 \n"
          ]
        }
      ]
    },
    {
      "cell_type": "markdown",
      "source": [
        "We learn that the model performs much better on the known _training data_ than on the unseen _test data_ (remember that higher MSE values are worse).  \n",
        "\n",
        "The reason can be due to a number of factors, but first and foremost is _overfitting_, which is when a model matches the data in the _training set_ too closely. This means that it will perform very well on the _training set_, but will not _generalize_ well. (that is, it won't work well with other datasets)."
      ],
      "metadata": {
        "id": "KNmd-5dk79q7"
      }
    },
    {
      "cell_type": "markdown",
      "source": [
        "# New Dataset\n",
        "\n",
        "To illustrate our point further, let's have a look at how our model performs when confronted with a completely new, unseen, and larger dataset. For our scenario, we'll use data provided by the avalanche rescue charity's European branch."
      ],
      "metadata": {
        "id": "10tB2Rno8E7B"
      }
    },
    {
      "cell_type": "code",
      "source": [
        "# Load an alternative dataset from the charity's European branch\n",
        "new_data = pandas.read_csv(\"dog-training-switzerland.csv\", delimiter=\"\\t\")\n",
        "\n",
        "print(new_data.shape)\n",
        "new_data.head()\n"
      ],
      "metadata": {
        "colab": {
          "base_uri": "https://localhost:8080/",
          "height": 223
        },
        "id": "11wg8akJ7-nc",
        "outputId": "a646fa1f-67a5-4af2-9b84-6f6d23d550e0"
      },
      "execution_count": 10,
      "outputs": [
        {
          "output_type": "stream",
          "name": "stdout",
          "text": [
            "(500, 5)\n"
          ]
        },
        {
          "output_type": "execute_result",
          "data": {
            "text/plain": [
              "   month_old_when_trained  mean_rescues_per_year  age_last_year  \\\n",
              "0                       9                   16.7              2   \n",
              "1                      33                   24.2              8   \n",
              "2                      43                   20.2              4   \n",
              "3                      37                   19.2              5   \n",
              "4                      45                   16.9              8   \n",
              "\n",
              "   weight_last_year  rescues_last_year  \n",
              "0         15.709342                 30  \n",
              "1         14.760819                 35  \n",
              "2         13.118374                 19  \n",
              "3         10.614075                 24  \n",
              "4         17.519890                 28  "
            ],
            "text/html": [
              "\n",
              "\n",
              "  <div id=\"df-f44bb2bf-3e02-4e2b-a826-efd4149b627d\">\n",
              "    <div class=\"colab-df-container\">\n",
              "      <div>\n",
              "<style scoped>\n",
              "    .dataframe tbody tr th:only-of-type {\n",
              "        vertical-align: middle;\n",
              "    }\n",
              "\n",
              "    .dataframe tbody tr th {\n",
              "        vertical-align: top;\n",
              "    }\n",
              "\n",
              "    .dataframe thead th {\n",
              "        text-align: right;\n",
              "    }\n",
              "</style>\n",
              "<table border=\"1\" class=\"dataframe\">\n",
              "  <thead>\n",
              "    <tr style=\"text-align: right;\">\n",
              "      <th></th>\n",
              "      <th>month_old_when_trained</th>\n",
              "      <th>mean_rescues_per_year</th>\n",
              "      <th>age_last_year</th>\n",
              "      <th>weight_last_year</th>\n",
              "      <th>rescues_last_year</th>\n",
              "    </tr>\n",
              "  </thead>\n",
              "  <tbody>\n",
              "    <tr>\n",
              "      <th>0</th>\n",
              "      <td>9</td>\n",
              "      <td>16.7</td>\n",
              "      <td>2</td>\n",
              "      <td>15.709342</td>\n",
              "      <td>30</td>\n",
              "    </tr>\n",
              "    <tr>\n",
              "      <th>1</th>\n",
              "      <td>33</td>\n",
              "      <td>24.2</td>\n",
              "      <td>8</td>\n",
              "      <td>14.760819</td>\n",
              "      <td>35</td>\n",
              "    </tr>\n",
              "    <tr>\n",
              "      <th>2</th>\n",
              "      <td>43</td>\n",
              "      <td>20.2</td>\n",
              "      <td>4</td>\n",
              "      <td>13.118374</td>\n",
              "      <td>19</td>\n",
              "    </tr>\n",
              "    <tr>\n",
              "      <th>3</th>\n",
              "      <td>37</td>\n",
              "      <td>19.2</td>\n",
              "      <td>5</td>\n",
              "      <td>10.614075</td>\n",
              "      <td>24</td>\n",
              "    </tr>\n",
              "    <tr>\n",
              "      <th>4</th>\n",
              "      <td>45</td>\n",
              "      <td>16.9</td>\n",
              "      <td>8</td>\n",
              "      <td>17.519890</td>\n",
              "      <td>28</td>\n",
              "    </tr>\n",
              "  </tbody>\n",
              "</table>\n",
              "</div>\n",
              "      <button class=\"colab-df-convert\" onclick=\"convertToInteractive('df-f44bb2bf-3e02-4e2b-a826-efd4149b627d')\"\n",
              "              title=\"Convert this dataframe to an interactive table.\"\n",
              "              style=\"display:none;\">\n",
              "\n",
              "  <svg xmlns=\"http://www.w3.org/2000/svg\" height=\"24px\"viewBox=\"0 0 24 24\"\n",
              "       width=\"24px\">\n",
              "    <path d=\"M0 0h24v24H0V0z\" fill=\"none\"/>\n",
              "    <path d=\"M18.56 5.44l.94 2.06.94-2.06 2.06-.94-2.06-.94-.94-2.06-.94 2.06-2.06.94zm-11 1L8.5 8.5l.94-2.06 2.06-.94-2.06-.94L8.5 2.5l-.94 2.06-2.06.94zm10 10l.94 2.06.94-2.06 2.06-.94-2.06-.94-.94-2.06-.94 2.06-2.06.94z\"/><path d=\"M17.41 7.96l-1.37-1.37c-.4-.4-.92-.59-1.43-.59-.52 0-1.04.2-1.43.59L10.3 9.45l-7.72 7.72c-.78.78-.78 2.05 0 2.83L4 21.41c.39.39.9.59 1.41.59.51 0 1.02-.2 1.41-.59l7.78-7.78 2.81-2.81c.8-.78.8-2.07 0-2.86zM5.41 20L4 18.59l7.72-7.72 1.47 1.35L5.41 20z\"/>\n",
              "  </svg>\n",
              "      </button>\n",
              "\n",
              "\n",
              "\n",
              "    <div id=\"df-8dcb89e6-9fb4-4984-b2fa-e421f790ee19\">\n",
              "      <button class=\"colab-df-quickchart\" onclick=\"quickchart('df-8dcb89e6-9fb4-4984-b2fa-e421f790ee19')\"\n",
              "              title=\"Suggest charts.\"\n",
              "              style=\"display:none;\">\n",
              "\n",
              "<svg xmlns=\"http://www.w3.org/2000/svg\" height=\"24px\"viewBox=\"0 0 24 24\"\n",
              "     width=\"24px\">\n",
              "    <g>\n",
              "        <path d=\"M19 3H5c-1.1 0-2 .9-2 2v14c0 1.1.9 2 2 2h14c1.1 0 2-.9 2-2V5c0-1.1-.9-2-2-2zM9 17H7v-7h2v7zm4 0h-2V7h2v10zm4 0h-2v-4h2v4z\"/>\n",
              "    </g>\n",
              "</svg>\n",
              "      </button>\n",
              "    </div>\n",
              "\n",
              "<style>\n",
              "  .colab-df-quickchart {\n",
              "    background-color: #E8F0FE;\n",
              "    border: none;\n",
              "    border-radius: 50%;\n",
              "    cursor: pointer;\n",
              "    display: none;\n",
              "    fill: #1967D2;\n",
              "    height: 32px;\n",
              "    padding: 0 0 0 0;\n",
              "    width: 32px;\n",
              "  }\n",
              "\n",
              "  .colab-df-quickchart:hover {\n",
              "    background-color: #E2EBFA;\n",
              "    box-shadow: 0px 1px 2px rgba(60, 64, 67, 0.3), 0px 1px 3px 1px rgba(60, 64, 67, 0.15);\n",
              "    fill: #174EA6;\n",
              "  }\n",
              "\n",
              "  [theme=dark] .colab-df-quickchart {\n",
              "    background-color: #3B4455;\n",
              "    fill: #D2E3FC;\n",
              "  }\n",
              "\n",
              "  [theme=dark] .colab-df-quickchart:hover {\n",
              "    background-color: #434B5C;\n",
              "    box-shadow: 0px 1px 3px 1px rgba(0, 0, 0, 0.15);\n",
              "    filter: drop-shadow(0px 1px 2px rgba(0, 0, 0, 0.3));\n",
              "    fill: #FFFFFF;\n",
              "  }\n",
              "</style>\n",
              "\n",
              "    <script>\n",
              "      async function quickchart(key) {\n",
              "        const containerElement = document.querySelector('#' + key);\n",
              "        const charts = await google.colab.kernel.invokeFunction(\n",
              "            'suggestCharts', [key], {});\n",
              "      }\n",
              "    </script>\n",
              "\n",
              "      <script>\n",
              "\n",
              "function displayQuickchartButton(domScope) {\n",
              "  let quickchartButtonEl =\n",
              "    domScope.querySelector('#df-8dcb89e6-9fb4-4984-b2fa-e421f790ee19 button.colab-df-quickchart');\n",
              "  quickchartButtonEl.style.display =\n",
              "    google.colab.kernel.accessAllowed ? 'block' : 'none';\n",
              "}\n",
              "\n",
              "        displayQuickchartButton(document);\n",
              "      </script>\n",
              "      <style>\n",
              "    .colab-df-container {\n",
              "      display:flex;\n",
              "      flex-wrap:wrap;\n",
              "      gap: 12px;\n",
              "    }\n",
              "\n",
              "    .colab-df-convert {\n",
              "      background-color: #E8F0FE;\n",
              "      border: none;\n",
              "      border-radius: 50%;\n",
              "      cursor: pointer;\n",
              "      display: none;\n",
              "      fill: #1967D2;\n",
              "      height: 32px;\n",
              "      padding: 0 0 0 0;\n",
              "      width: 32px;\n",
              "    }\n",
              "\n",
              "    .colab-df-convert:hover {\n",
              "      background-color: #E2EBFA;\n",
              "      box-shadow: 0px 1px 2px rgba(60, 64, 67, 0.3), 0px 1px 3px 1px rgba(60, 64, 67, 0.15);\n",
              "      fill: #174EA6;\n",
              "    }\n",
              "\n",
              "    [theme=dark] .colab-df-convert {\n",
              "      background-color: #3B4455;\n",
              "      fill: #D2E3FC;\n",
              "    }\n",
              "\n",
              "    [theme=dark] .colab-df-convert:hover {\n",
              "      background-color: #434B5C;\n",
              "      box-shadow: 0px 1px 3px 1px rgba(0, 0, 0, 0.15);\n",
              "      filter: drop-shadow(0px 1px 2px rgba(0, 0, 0, 0.3));\n",
              "      fill: #FFFFFF;\n",
              "    }\n",
              "  </style>\n",
              "\n",
              "      <script>\n",
              "        const buttonEl =\n",
              "          document.querySelector('#df-f44bb2bf-3e02-4e2b-a826-efd4149b627d button.colab-df-convert');\n",
              "        buttonEl.style.display =\n",
              "          google.colab.kernel.accessAllowed ? 'block' : 'none';\n",
              "\n",
              "        async function convertToInteractive(key) {\n",
              "          const element = document.querySelector('#df-f44bb2bf-3e02-4e2b-a826-efd4149b627d');\n",
              "          const dataTable =\n",
              "            await google.colab.kernel.invokeFunction('convertToInteractive',\n",
              "                                                     [key], {});\n",
              "          if (!dataTable) return;\n",
              "\n",
              "          const docLinkHtml = 'Like what you see? Visit the ' +\n",
              "            '<a target=\"_blank\" href=https://colab.research.google.com/notebooks/data_table.ipynb>data table notebook</a>'\n",
              "            + ' to learn more about interactive tables.';\n",
              "          element.innerHTML = '';\n",
              "          dataTable['output_type'] = 'display_data';\n",
              "          await google.colab.output.renderOutput(dataTable, element);\n",
              "          const docLink = document.createElement('div');\n",
              "          docLink.innerHTML = docLinkHtml;\n",
              "          element.appendChild(docLink);\n",
              "        }\n",
              "      </script>\n",
              "    </div>\n",
              "  </div>\n"
            ]
          },
          "metadata": {},
          "execution_count": 10
        }
      ]
    },
    {
      "cell_type": "markdown",
      "source": [
        "The features are the same, but we have much more data this time. Let's see how our model does!"
      ],
      "metadata": {
        "id": "iHvyM_it8NF9"
      }
    },
    {
      "cell_type": "code",
      "source": [
        "# Plot the fitted model against this new dataset.\n",
        "\n",
        "graphing.scatter_2D(new_data, \"weight_last_year\", \"rescues_last_year\", trendline = lambda x: model.params[1] * x + model.params[0])"
      ],
      "metadata": {
        "colab": {
          "base_uri": "https://localhost:8080/",
          "height": 417
        },
        "id": "nHPRnbSL8N65",
        "outputId": "6ee10254-e0db-483a-ea49-f977120b2024"
      },
      "execution_count": 11,
      "outputs": [
        {
          "output_type": "display_data",
          "data": {
            "text/html": [
              "<html>\n",
              "<head><meta charset=\"utf-8\" /></head>\n",
              "<body>\n",
              "    <div>            <script src=\"https://cdnjs.cloudflare.com/ajax/libs/mathjax/2.7.5/MathJax.js?config=TeX-AMS-MML_SVG\"></script><script type=\"text/javascript\">if (window.MathJax && window.MathJax.Hub && window.MathJax.Hub.Config) {window.MathJax.Hub.Config({SVG: {font: \"STIX-Web\"}});}</script>                <script type=\"text/javascript\">window.PlotlyConfig = {MathJaxConfig: 'local'};</script>\n",
              "        <script src=\"https://cdn.plot.ly/plotly-2.18.2.min.js\"></script>                <div id=\"cb5e8154-81cb-4641-8163-a8cd0c05c114\" class=\"plotly-graph-div\" style=\"height:400px; width:100%;\"></div>            <script type=\"text/javascript\">                                    window.PLOTLYENV=window.PLOTLYENV || {};                                    if (document.getElementById(\"cb5e8154-81cb-4641-8163-a8cd0c05c114\")) {                    Plotly.newPlot(                        \"cb5e8154-81cb-4641-8163-a8cd0c05c114\",                        [{\"hovertemplate\":\"weight last year=%{x}<br>rescues last year=%{y}<extra></extra>\",\"legendgroup\":\"\",\"marker\":{\"color\":\"#636efa\",\"symbol\":\"circle\",\"size\":4},\"mode\":\"markers\",\"name\":\"\",\"orientation\":\"v\",\"showlegend\":false,\"x\":[15.7093421,14.76081925,13.11837395,10.61407536,17.51988978,22.80996093,16.17951147,24.56310997,15.20624843,18.92797027,17.29704756,21.66390835,16.17105093,20.63478822,17.17297989,18.78372359,8.580353443,17.03221926,14.77866829,17.48785712,18.0163647,23.99409126,14.03798756,17.9746433,15.68521953,19.32980772,19.2404955,17.1526513,20.93383422,20.4129203,17.0947552,24.4867856,14.60788854,15.93924802,21.31876263,17.33856689,8.952019386,17.52668264,25.9047924,23.13309419,17.10303387,17.18257768,17.68815015,18.45492731,22.933932,12.71989576,18.59287523,20.93538259,18.38547099,18.99742418,12.37503749,18.73255415,20.53044809,19.87691329,17.24722961,21.23317935,14.19000543,22.68587921,13.04626935,19.58146391,20.92217189,16.08948621,15.85939478,15.37750952,12.76727325,18.36127788,17.98685459,16.17733694,18.01219413,19.02826624,13.97153581,23.94981283,20.80638174,14.80760944,22.17185133,12.10483435,13.80294772,22.05551544,15.64167955,22.46456613,18.31348655,16.0738433,22.6833733,22.69359673,11.99551424,19.24069648,15.63412846,12.34406563,24.77305793,9.324722941,18.82405649,15.91975902,15.26753823,16.28076869,22.03467434,21.35936918,19.36005326,17.18343384,20.56724089,17.91300936,23.26820417,18.03883087,22.12852393,22.30659942,14.86692959,13.58214695,16.96251261,20.73676631,23.7351562,18.78391359,21.5464617,24.97265687,22.24904211,19.41197045,16.04335599,15.36727957,20.49497769,17.01063151,17.4128766,16.80877901,18.90274371,25.98091305,20.61840624,20.51145614,18.45865402,17.44735877,18.06919911,14.81643671,13.2349614,22.22265306,23.09932069,23.96451398,22.8792469,13.18951827,21.78545926,15.38281633,15.53574207,12.83902541,13.88871148,24.60324827,18.94649044,22.48170367,20.116172,17.57302227,16.55555044,9.492027146,24.97504913,12.54797801,14.97635401,18.64866763,21.77596436,13.29374095,16.75832254,25.01784283,17.34075018,16.96577449,17.34171171,10.43495465,17.95873028,25.14609004,27.5266683,18.07904794,19.25023952,24.82638759,23.54740398,22.47879777,16.65036584,19.97805844,16.29903204,21.78928386,24.69181013,16.57685852,24.83778649,19.16688587,17.89791388,23.9570237,12.41489591,17.22798281,11.63211212,16.8428543,18.3299908,14.87480408,14.27852416,22.61463318,17.17440559,24.62875081,17.2748817,12.89766753,15.48508405,15.90778085,18.87255166,17.30413596,19.04769085,18.04277749,17.01377875,17.56217315,19.39217558,21.87432544,11.9055037,17.87934698,16.69519895,15.51989971,17.12461334,16.44630242,14.42830094,9.576514732,14.90652152,9.071946896,19.30972622,15.97121052,17.43060311,10.6568584,14.70394007,15.74365161,9.94438842,7.445962112,22.97996521,29.7826702,12.79321359,15.35005327,15.32926889,19.21160922,24.75661327,13.67915655,12.94590818,17.5485624,23.25654663,17.54780415,16.18196365,18.67289555,18.91524097,21.73303512,13.31379404,12.98239264,20.51046454,8.768811509,25.477678,13.87681221,15.59083451,21.80666497,21.28894615,21.37891855,16.67917468,12.73002474,23.21744869,15.35339308,25.71969971,16.83496234,18.4308362,16.22847144,18.43329906,14.83102207,14.28484628,13.7063075,17.59575368,11.03058976,14.6362343,15.42563081,17.95837093,17.30949212,17.82411335,18.60333517,18.25167931,13.08969331,14.0666256,14.93074283,15.40454639,17.79807902,16.2562319,20.08314998,16.68375167,18.03594188,14.9798596,24.80062357,21.66013754,19.16575459,24.86781452,14.30705477,20.0469446,18.26284082,13.36693886,27.78163918,14.61468717,19.55166285,18.70066846,19.59583434,12.55751267,18.17693326,19.87907886,19.59408329,18.96319207,16.10175138,16.23527708,19.45105522,19.54819644,21.80495927,20.69071024,19.23346268,25.74581197,9.504705678,15.09517719,15.03341771,15.52005571,17.00141485,15.43526777,24.84945035,21.96121058,12.85290041,13.99160839,16.69823903,21.66626484,16.03361264,18.90103588,13.9422753,15.62269714,20.50672033,17.67372786,16.6161373,18.493597,13.84227481,16.99057331,14.95064118,14.31368921,6.126198777,19.09770134,22.3858129,18.62422831,16.93543942,18.33855627,15.74163166,20.64880331,20.87668186,13.85592075,14.7477123,14.52421769,11.66335354,22.5557521,17.98831076,15.67261489,16.36328852,26.95750976,16.1308286,20.69873383,20.48600297,22.83226385,18.12152939,23.81630396,19.20613306,17.56606016,17.02983356,21.39703797,20.73659133,18.04720765,21.91604149,16.99352565,12.6326283,15.52871783,15.19045284,10.9982533,18.8815828,18.05385585,17.88795568,19.12946492,17.51036675,19.6307328,15.57912469,19.11953312,20.91256214,21.63630511,21.26849739,10.76175859,18.88101599,19.05505692,24.48549889,17.8898701,18.27047577,21.75140607,14.70769325,23.14305569,15.28812135,17.54713402,20.72450632,15.99253604,20.0174317,17.95760249,21.98497351,17.26028976,12.08690407,21.06464555,19.09804813,21.65577694,18.56465983,10.79112308,17.59230724,10.35366198,21.99042803,21.15438826,20.1718924,13.25849429,15.35674918,17.4201013,18.19348679,19.65690744,22.90527863,17.11694175,10.39138464,17.39224569,15.0600111,20.2831295,12.98554839,11.80795565,25.96687144,19.48836384,16.45759306,19.48187864,16.39582932,25.82846653,13.56135248,23.81428021,17.71576261,17.82635054,16.22912354,18.62707964,18.56886084,14.64740104,20.17809262,14.3573003,15.83837334,18.64765915,25.23852486,28.77047087,24.42418011,22.01977589,20.62014344,25.33941317,25.67509238,13.3768968,17.33244321,14.58547717,18.26131422,14.36319483,6.523563985,15.97393273,21.27239373,22.96128586,19.7581909,20.12886768,17.49548976,12.00681665,19.56636564,14.3005545,22.64446073,17.25487806,15.66304348,23.95792632,26.31310788,24.18734568,15.3335324,18.52542559,25.5615161,21.07165761,18.31591693,17.09582486,17.89815769,18.5744847,16.47531598,11.41063481,16.12002474,28.43227947,18.05361558,19.8407152,19.17050375,20.45326175,17.4053221,13.82604468,16.87696055,24.20671477,25.10424967,17.11554517,10.96495617,17.74501832,16.91512998,11.32723381,20.35171178,13.04494689,21.59906029,14.01262,18.19420871,15.51295831,11.36444454,18.24793961,21.94806079,23.59753804,22.39137525,20.45131866,8.75114822,21.42562142,26.65785012,17.02027416,14.91154712],\"xaxis\":\"x\",\"y\":[30,35,19,24,28,37,33,37,34,31,33,39,31,27,32,29,27,33,34,33,33,35,31,32,25,32,33,33,31,31,33,36,25,27,34,36,27,31,33,29,34,33,37,44,39,29,39,34,33,31,25,34,34,34,33,40,25,33,35,30,37,25,31,30,31,32,31,40,30,33,22,41,37,31,30,23,34,36,30,36,40,27,37,36,22,37,26,21,40,23,28,35,26,41,35,32,34,34,37,35,40,36,39,34,28,19,35,29,39,33,41,35,39,33,36,26,37,34,26,32,37,36,40,33,39,33,28,32,38,33,36,36,32,26,31,31,28,43,38,39,30,44,25,31,25,30,38,37,31,40,27,33,34,41,39,30,40,30,36,42,37,33,37,44,36,25,27,19,31,29,43,37,27,33,39,35,28,36,30,32,31,27,23,32,37,41,31,22,31,36,29,29,26,25,27,31,32,33,27,21,28,26,24,36,23,29,21,23,33,31,37,27,35,34,31,28,39,32,34,25,35,26,35,29,27,35,35,30,35,37,33,30,35,31,42,27,41,31,26,25,37,37,32,41,26,28,41,25,34,28,29,28,29,29,36,30,21,27,38,32,31,40,35,32,30,30,31,29,34,36,39,34,31,39,32,35,45,34,35,34,33,44,28,27,37,35,27,40,34,28,36,26,34,28,35,32,36,30,42,20,36,31,30,29,30,39,34,31,21,25,25,31,32,30,31,19,37,29,31,45,27,28,32,18,29,38,29,32,27,37,37,30,34,34,31,25,35,34,24,29,45,25,34,35,29,39,37,29,34,25,41,33,33,38,24,32,29,32,31,30,32,29,43,28,39,33,30,33,33,33,33,30,31,39,33,29,41,33,42,29,33,36,33,37,31,36,40,25,31,33,31,38,35,31,33,37,42,32,27,31,36,34,37,34,34,27,25,33,38,31,33,40,38,32,32,33,36,27,34,30,30,24,32,31,28,27,40,33,39,41,46,37,36,26,42,34,30,29,32,34,30,25,27,43,36,35,34,33,26,37,27,37,33,34,40,46,38,31,33,30,43,32,27,30,32,30,34,26,46,33,37,30,31,30,31,35,33,35,26,28,34,28,27,34,21,30,22,38,30,26,43,27,32,30,40,33,33,37,30,29],\"yaxis\":\"y\",\"type\":\"scatter\"}],                        {\"template\":{\"data\":{\"barpolar\":[{\"marker\":{\"line\":{\"color\":\"white\",\"width\":0.5},\"pattern\":{\"fillmode\":\"overlay\",\"size\":10,\"solidity\":0.2}},\"type\":\"barpolar\"}],\"bar\":[{\"error_x\":{\"color\":\"#2a3f5f\"},\"error_y\":{\"color\":\"#2a3f5f\"},\"marker\":{\"line\":{\"color\":\"white\",\"width\":0.5},\"pattern\":{\"fillmode\":\"overlay\",\"size\":10,\"solidity\":0.2}},\"type\":\"bar\"}],\"carpet\":[{\"aaxis\":{\"endlinecolor\":\"#2a3f5f\",\"gridcolor\":\"#C8D4E3\",\"linecolor\":\"#C8D4E3\",\"minorgridcolor\":\"#C8D4E3\",\"startlinecolor\":\"#2a3f5f\"},\"baxis\":{\"endlinecolor\":\"#2a3f5f\",\"gridcolor\":\"#C8D4E3\",\"linecolor\":\"#C8D4E3\",\"minorgridcolor\":\"#C8D4E3\",\"startlinecolor\":\"#2a3f5f\"},\"type\":\"carpet\"}],\"choropleth\":[{\"colorbar\":{\"outlinewidth\":0,\"ticks\":\"\"},\"type\":\"choropleth\"}],\"contourcarpet\":[{\"colorbar\":{\"outlinewidth\":0,\"ticks\":\"\"},\"type\":\"contourcarpet\"}],\"contour\":[{\"colorbar\":{\"outlinewidth\":0,\"ticks\":\"\"},\"colorscale\":[[0.0,\"#0d0887\"],[0.1111111111111111,\"#46039f\"],[0.2222222222222222,\"#7201a8\"],[0.3333333333333333,\"#9c179e\"],[0.4444444444444444,\"#bd3786\"],[0.5555555555555556,\"#d8576b\"],[0.6666666666666666,\"#ed7953\"],[0.7777777777777778,\"#fb9f3a\"],[0.8888888888888888,\"#fdca26\"],[1.0,\"#f0f921\"]],\"type\":\"contour\"}],\"heatmapgl\":[{\"colorbar\":{\"outlinewidth\":0,\"ticks\":\"\"},\"colorscale\":[[0.0,\"#0d0887\"],[0.1111111111111111,\"#46039f\"],[0.2222222222222222,\"#7201a8\"],[0.3333333333333333,\"#9c179e\"],[0.4444444444444444,\"#bd3786\"],[0.5555555555555556,\"#d8576b\"],[0.6666666666666666,\"#ed7953\"],[0.7777777777777778,\"#fb9f3a\"],[0.8888888888888888,\"#fdca26\"],[1.0,\"#f0f921\"]],\"type\":\"heatmapgl\"}],\"heatmap\":[{\"colorbar\":{\"outlinewidth\":0,\"ticks\":\"\"},\"colorscale\":[[0.0,\"#0d0887\"],[0.1111111111111111,\"#46039f\"],[0.2222222222222222,\"#7201a8\"],[0.3333333333333333,\"#9c179e\"],[0.4444444444444444,\"#bd3786\"],[0.5555555555555556,\"#d8576b\"],[0.6666666666666666,\"#ed7953\"],[0.7777777777777778,\"#fb9f3a\"],[0.8888888888888888,\"#fdca26\"],[1.0,\"#f0f921\"]],\"type\":\"heatmap\"}],\"histogram2dcontour\":[{\"colorbar\":{\"outlinewidth\":0,\"ticks\":\"\"},\"colorscale\":[[0.0,\"#0d0887\"],[0.1111111111111111,\"#46039f\"],[0.2222222222222222,\"#7201a8\"],[0.3333333333333333,\"#9c179e\"],[0.4444444444444444,\"#bd3786\"],[0.5555555555555556,\"#d8576b\"],[0.6666666666666666,\"#ed7953\"],[0.7777777777777778,\"#fb9f3a\"],[0.8888888888888888,\"#fdca26\"],[1.0,\"#f0f921\"]],\"type\":\"histogram2dcontour\"}],\"histogram2d\":[{\"colorbar\":{\"outlinewidth\":0,\"ticks\":\"\"},\"colorscale\":[[0.0,\"#0d0887\"],[0.1111111111111111,\"#46039f\"],[0.2222222222222222,\"#7201a8\"],[0.3333333333333333,\"#9c179e\"],[0.4444444444444444,\"#bd3786\"],[0.5555555555555556,\"#d8576b\"],[0.6666666666666666,\"#ed7953\"],[0.7777777777777778,\"#fb9f3a\"],[0.8888888888888888,\"#fdca26\"],[1.0,\"#f0f921\"]],\"type\":\"histogram2d\"}],\"histogram\":[{\"marker\":{\"pattern\":{\"fillmode\":\"overlay\",\"size\":10,\"solidity\":0.2},\"line\":{\"width\":1}},\"type\":\"histogram\"}],\"mesh3d\":[{\"colorbar\":{\"outlinewidth\":0,\"ticks\":\"\"},\"type\":\"mesh3d\"}],\"parcoords\":[{\"line\":{\"colorbar\":{\"outlinewidth\":0,\"ticks\":\"\"}},\"type\":\"parcoords\"}],\"pie\":[{\"automargin\":true,\"type\":\"pie\"}],\"scatter3d\":[{\"line\":{\"colorbar\":{\"outlinewidth\":0,\"ticks\":\"\"}},\"marker\":{\"colorbar\":{\"outlinewidth\":0,\"ticks\":\"\"},\"opacity\":0.8},\"type\":\"scatter3d\"}],\"scattercarpet\":[{\"marker\":{\"colorbar\":{\"outlinewidth\":0,\"ticks\":\"\"}},\"type\":\"scattercarpet\"}],\"scattergeo\":[{\"marker\":{\"colorbar\":{\"outlinewidth\":0,\"ticks\":\"\"}},\"type\":\"scattergeo\"}],\"scattergl\":[{\"marker\":{\"colorbar\":{\"outlinewidth\":0,\"ticks\":\"\"}},\"type\":\"scattergl\"}],\"scattermapbox\":[{\"marker\":{\"colorbar\":{\"outlinewidth\":0,\"ticks\":\"\"}},\"type\":\"scattermapbox\"}],\"scatterpolargl\":[{\"marker\":{\"colorbar\":{\"outlinewidth\":0,\"ticks\":\"\"}},\"type\":\"scatterpolargl\"}],\"scatterpolar\":[{\"marker\":{\"colorbar\":{\"outlinewidth\":0,\"ticks\":\"\"}},\"type\":\"scatterpolar\"}],\"scatter\":[{\"fillpattern\":{\"fillmode\":\"overlay\",\"size\":10,\"solidity\":0.2},\"type\":\"scatter\",\"marker\":{\"opacity\":0.8}}],\"scatterternary\":[{\"marker\":{\"colorbar\":{\"outlinewidth\":0,\"ticks\":\"\"}},\"type\":\"scatterternary\"}],\"surface\":[{\"colorbar\":{\"outlinewidth\":0,\"ticks\":\"\"},\"colorscale\":[[0.0,\"#0d0887\"],[0.1111111111111111,\"#46039f\"],[0.2222222222222222,\"#7201a8\"],[0.3333333333333333,\"#9c179e\"],[0.4444444444444444,\"#bd3786\"],[0.5555555555555556,\"#d8576b\"],[0.6666666666666666,\"#ed7953\"],[0.7777777777777778,\"#fb9f3a\"],[0.8888888888888888,\"#fdca26\"],[1.0,\"#f0f921\"]],\"type\":\"surface\"}],\"table\":[{\"cells\":{\"fill\":{\"color\":\"#EBF0F8\"},\"line\":{\"color\":\"white\"}},\"header\":{\"fill\":{\"color\":\"#C8D4E3\"},\"line\":{\"color\":\"white\"}},\"type\":\"table\"}],\"box\":[{\"boxpoints\":\"outliers\",\"notched\":false,\"type\":\"box\"}]},\"layout\":{\"annotationdefaults\":{\"arrowcolor\":\"#2a3f5f\",\"arrowhead\":0,\"arrowwidth\":1},\"autotypenumbers\":\"strict\",\"coloraxis\":{\"colorbar\":{\"outlinewidth\":0,\"ticks\":\"\"}},\"colorscale\":{\"diverging\":[[0,\"#8e0152\"],[0.1,\"#c51b7d\"],[0.2,\"#de77ae\"],[0.3,\"#f1b6da\"],[0.4,\"#fde0ef\"],[0.5,\"#f7f7f7\"],[0.6,\"#e6f5d0\"],[0.7,\"#b8e186\"],[0.8,\"#7fbc41\"],[0.9,\"#4d9221\"],[1,\"#276419\"]],\"sequential\":[[0.0,\"#0d0887\"],[0.1111111111111111,\"#46039f\"],[0.2222222222222222,\"#7201a8\"],[0.3333333333333333,\"#9c179e\"],[0.4444444444444444,\"#bd3786\"],[0.5555555555555556,\"#d8576b\"],[0.6666666666666666,\"#ed7953\"],[0.7777777777777778,\"#fb9f3a\"],[0.8888888888888888,\"#fdca26\"],[1.0,\"#f0f921\"]],\"sequentialminus\":[[0.0,\"#0d0887\"],[0.1111111111111111,\"#46039f\"],[0.2222222222222222,\"#7201a8\"],[0.3333333333333333,\"#9c179e\"],[0.4444444444444444,\"#bd3786\"],[0.5555555555555556,\"#d8576b\"],[0.6666666666666666,\"#ed7953\"],[0.7777777777777778,\"#fb9f3a\"],[0.8888888888888888,\"#fdca26\"],[1.0,\"#f0f921\"]]},\"colorway\":[\"#636efa\",\"#EF553B\",\"#00cc96\",\"#ab63fa\",\"#FFA15A\",\"#19d3f3\",\"#FF6692\",\"#B6E880\",\"#FF97FF\",\"#FECB52\"],\"font\":{\"color\":\"#2a3f5f\"},\"geo\":{\"bgcolor\":\"white\",\"lakecolor\":\"white\",\"landcolor\":\"white\",\"showlakes\":true,\"showland\":true,\"subunitcolor\":\"#C8D4E3\"},\"hoverlabel\":{\"align\":\"left\"},\"hovermode\":\"closest\",\"mapbox\":{\"style\":\"light\"},\"paper_bgcolor\":\"white\",\"plot_bgcolor\":\"white\",\"polar\":{\"angularaxis\":{\"gridcolor\":\"#EBF0F8\",\"linecolor\":\"#EBF0F8\",\"ticks\":\"\"},\"bgcolor\":\"white\",\"radialaxis\":{\"gridcolor\":\"#EBF0F8\",\"linecolor\":\"#EBF0F8\",\"ticks\":\"\"}},\"scene\":{\"xaxis\":{\"backgroundcolor\":\"white\",\"gridcolor\":\"#DFE8F3\",\"gridwidth\":2,\"linecolor\":\"#EBF0F8\",\"showbackground\":true,\"ticks\":\"\",\"zerolinecolor\":\"#EBF0F8\"},\"yaxis\":{\"backgroundcolor\":\"white\",\"gridcolor\":\"#DFE8F3\",\"gridwidth\":2,\"linecolor\":\"#EBF0F8\",\"showbackground\":true,\"ticks\":\"\",\"zerolinecolor\":\"#EBF0F8\"},\"zaxis\":{\"backgroundcolor\":\"white\",\"gridcolor\":\"#DFE8F3\",\"gridwidth\":2,\"linecolor\":\"#EBF0F8\",\"showbackground\":true,\"ticks\":\"\",\"zerolinecolor\":\"#EBF0F8\"},\"camera\":{\"eye\":{\"x\":1.5,\"y\":1.5,\"z\":0.1}}},\"shapedefaults\":{\"line\":{\"color\":\"#2a3f5f\"}},\"ternary\":{\"aaxis\":{\"gridcolor\":\"#DFE8F3\",\"linecolor\":\"#A2B1C6\",\"ticks\":\"\"},\"baxis\":{\"gridcolor\":\"#DFE8F3\",\"linecolor\":\"#A2B1C6\",\"ticks\":\"\"},\"bgcolor\":\"white\",\"caxis\":{\"gridcolor\":\"#DFE8F3\",\"linecolor\":\"#A2B1C6\",\"ticks\":\"\"}},\"title\":{\"x\":0.5},\"xaxis\":{\"automargin\":true,\"gridcolor\":\"#EBF0F8\",\"linecolor\":\"#EBF0F8\",\"ticks\":\"\",\"title\":{\"standoff\":15},\"zerolinecolor\":\"#EBF0F8\",\"zerolinewidth\":2,\"linewidth\":2,\"showline\":true},\"yaxis\":{\"automargin\":true,\"gridcolor\":\"#EBF0F8\",\"linecolor\":\"#EBF0F8\",\"ticks\":\"\",\"title\":{\"standoff\":15},\"zerolinecolor\":\"#EBF0F8\",\"zerolinewidth\":2,\"linewidth\":2,\"showline\":true},\"height\":400,\"margin\":{\"b\":2,\"l\":2,\"r\":2,\"t\":30}}},\"xaxis\":{\"anchor\":\"y\",\"domain\":[0.0,1.0],\"title\":{\"text\":\"weight last year\"}},\"yaxis\":{\"anchor\":\"x\",\"domain\":[0.0,1.0],\"title\":{\"text\":\"rescues last year\"}},\"legend\":{\"tracegroupgap\":0},\"shapes\":[{\"path\":\"M6.126198777 25.044749353929944 L 6.245075517819095 25.1261526415141 L 6.363952258638191 25.207555929098255 L 6.482828999457286 25.288959216682407 L 6.6017057402763815 25.370362504266563 L 6.7205824810954775 25.45176579185072 L 6.839459221914573 25.53316907943487 L 6.958335962733669 25.614572367019026 L 7.077212703552764 25.695975654603178 L 7.196089444371859 25.777378942187333 L 7.314966185190954 25.858782229771485 L 7.43384292601005 25.94018551735564 L 7.552719666829145 26.021588804939796 L 7.6715964076482415 26.102992092523948 L 7.790473148467337 26.1843953801081 L 7.909349889286432 26.265798667692255 L 8.028226630105527 26.34720195527641 L 8.147103370924622 26.428605242860563 L 8.265980111743719 26.51000853044472 L 8.384856852562814 26.591411818028874 L 8.50373359338191 26.672815105613026 L 8.622610334201005 26.754218393197178 L 8.7414870750201 26.835621680781333 L 8.860363815839197 26.91702496836549 L 8.979240556658292 26.99842825594964 L 9.098117297477387 27.079831543533796 L 9.216994038296482 27.16123483111795 L 9.335870779115577 27.242638118702104 L 9.454747519934674 27.32404140628626 L 9.57362426075377 27.405444693870415 L 9.692501001572865 27.486847981454567 L 9.81137774239196 27.56825126903872 L 9.930254483211055 27.649654556622874 L 10.049131224030152 27.73105784420703 L 10.168007964849245 27.81246113179118 L 10.286884705668342 27.893864419375337 L 10.405761446487437 27.97526770695949 L 10.524638187306532 28.056670994543644 L 10.64351492812563 28.1380742821278 L 10.762391668944723 28.21947756971195 L 10.88126840976382 28.300880857296107 L 11.000145150582915 28.38228414488026 L 11.11902189140201 28.463687432464415 L 11.237898632221105 28.545090720048567 L 11.3567753730402 28.626494007632722 L 11.475652113859297 28.707897295216878 L 11.594528854678392 28.78930058280103 L 11.713405595497488 28.870703870385185 L 11.832282336316583 28.952107157969337 L 11.951159077135678 29.033510445553492 L 12.070035817954775 29.114913733137648 L 12.188912558773868 29.1963170207218 L 12.307789299592965 29.277720308305952 L 12.42666604041206 29.359123595890107 L 12.545542781231156 29.440526883474263 L 12.664419522050252 29.521930171058415 L 12.783296262869346 29.60333345864257 L 12.902173003688443 29.684736746226726 L 13.021049744507538 29.766140033810878 L 13.139926485326633 29.84754332139503 L 13.25880322614573 29.92894660897919 L 13.377679966964823 30.01034989656334 L 13.49655670778392 30.091753184147493 L 13.615433448603016 30.173156471731648 L 13.73431018942211 30.254559759315804 L 13.853186930241206 30.335963046899955 L 13.972063671060301 30.417366334484107 L 14.090940411879398 30.498769622068266 L 14.209817152698491 30.58017290965242 L 14.328693893517588 30.66157619723657 L 14.447570634336685 30.74297948482073 L 14.566447375155779 30.82438277240488 L 14.685324115974876 30.905786059989033 L 14.804200856793969 30.987189347573185 L 14.923077597613066 31.068592635157344 L 15.04195433843216 31.149995922741496 L 15.160831079251256 31.231399210325648 L 15.279707820070353 31.312802497909807 L 15.398584560889446 31.39420578549396 L 15.517461301708543 31.47560907307811 L 15.636338042527637 31.557012360662263 L 15.755214783346734 31.638415648246422 L 15.87409152416583 31.719818935830574 L 15.992968264984924 31.801222223414726 L 16.11184500580402 31.882625510998885 L 16.230721746623114 31.964028798583037 L 16.34959848744221 32.04543208616719 L 16.46847522826131 32.12683537375135 L 16.5873519690804 32.2082386613355 L 16.7062287098995 32.28964194891965 L 16.825105450718592 32.371045236503804 L 16.94398219153769 32.45244852408796 L 17.062858932356786 32.533851811672115 L 17.18173567317588 32.61525509925627 L 17.300612413994976 32.696658386840426 L 17.41948915481407 32.77806167442458 L 17.538365895633167 32.85946496200873 L 17.65724263645226 32.94086824959288 L 17.776119377271357 33.02227153717704 L 17.894996118090454 33.10367482476119 L 18.013872858909547 33.185078112345344 L 18.132749599728644 33.2664813999295 L 18.251626340547737 33.347884687513655 L 18.370503081366834 33.42928797509781 L 18.48937982218593 33.51069126268196 L 18.608256563005025 33.59209455026611 L 18.72713330382412 33.67349783785027 L 18.846010044643215 33.75490112543442 L 18.964886785462312 33.83630441301858 L 19.08376352628141 33.91770770060273 L 19.202640267100502 33.999110988186885 L 19.3215170079196 34.08051427577104 L 19.440393748738693 34.16191756335519 L 19.55927048955779 34.24332085093935 L 19.678147230376883 34.3247241385235 L 19.79702397119598 34.40612742610766 L 19.915900712015077 34.48753071369181 L 20.03477745283417 34.56893400127596 L 20.153654193653267 34.650337288860115 L 20.27253093447236 34.73174057644427 L 20.391407675291457 34.813143864028426 L 20.510284416110554 34.894547151612585 L 20.629161156929648 34.97595043919674 L 20.748037897748745 35.05735372678089 L 20.866914638567838 35.13875701436504 L 20.985791379386935 35.22016030194919 L 21.104668120206032 35.30156358953335 L 21.223544861025125 35.382966877117504 L 21.342421601844222 35.46437016470166 L 21.461298342663316 35.545773452285815 L 21.580175083482413 35.62717673986997 L 21.69905182430151 35.70858002745412 L 21.817928565120603 35.78998331503827 L 21.9368053059397 35.87138660262243 L 22.055682046758793 35.95278989020658 L 22.17455878757789 36.03419317779074 L 22.293435528396984 36.11559646537489 L 22.41231226921608 36.196999752959044 L 22.531189010035174 36.278403040543196 L 22.65006575085427 36.35980632812735 L 22.768942491673368 36.44120961571151 L 22.88781923249246 36.52261290329566 L 23.006695973311558 36.60401619087982 L 23.12557271413065 36.68541947846397 L 23.24444945494975 36.76682276604812 L 23.363326195768845 36.848226053632274 L 23.48220293658794 36.929629341216426 L 23.601079677407036 37.011032628800585 L 23.71995641822613 37.09243591638474 L 23.838833159045226 37.173839203968896 L 23.95770989986432 37.25524249155305 L 24.076586640683416 37.3366457791372 L 24.195463381502513 37.41804906672135 L 24.314340122321607 37.499452354305504 L 24.433216863140704 37.58085564188966 L 24.552093603959797 37.662258929473815 L 24.670970344778894 37.743662217057974 L 24.78984708559799 37.825065504642126 L 24.908723826417084 37.90646879222628 L 25.02760056723618 37.98787207981043 L 25.146477308055275 38.06927536739458 L 25.26535404887437 38.15067865497874 L 25.38423078969347 38.2320819425629 L 25.503107530512562 38.31348523014705 L 25.62198427133166 38.394888517731204 L 25.740861012150752 38.476291805315356 L 25.85973775296985 38.55769509289951 L 25.978614493788946 38.63909838048366 L 26.09749123460804 38.72050166806782 L 26.216367975427136 38.80190495565198 L 26.33524471624623 38.88330824323613 L 26.454121457065327 38.96471153082028 L 26.57299819788442 39.04611481840443 L 26.691874938703517 39.127518105988585 L 26.810751679522614 39.20892139357274 L 26.929628420341707 39.290324681156896 L 27.048505161160804 39.37172796874105 L 27.167381901979898 39.45313125632521 L 27.286258642798995 39.53453454390936 L 27.40513538361809 39.61593783149351 L 27.524012124437185 39.69734111907766 L 27.642888865256282 39.778744406661815 L 27.761765606075375 39.860147694245974 L 27.880642346894472 39.941550981830126 L 27.99951908771357 40.022954269414285 L 28.118395828532663 40.10435755699844 L 28.23727256935176 40.18576084458259 L 28.356149310170853 40.26716413216674 L 28.47502605098995 40.34856741975089 L 28.593902791809043 40.42997070733505 L 28.71277953262814 40.511373994919204 L 28.831656273447237 40.59277728250336 L 28.95053301426633 40.674180570087515 L 29.069409755085427 40.75558385767167 L 29.18828649590452 40.83698714525582 L 29.307163236723618 40.91839043283997 L 29.426039977542715 40.99979372042413 L 29.544916718361808 41.08119700800828 L 29.663793459180905 41.16260029559244 L 29.7826702 41.24400358317659\",\"type\":\"path\",\"line\":{\"color\":\"rgb(228,26,28)\"}}]},                        {\"responsive\": true}                    ).then(function(){\n",
              "                            \n",
              "var gd = document.getElementById('cb5e8154-81cb-4641-8163-a8cd0c05c114');\n",
              "var x = new MutationObserver(function (mutations, observer) {{\n",
              "        var display = window.getComputedStyle(gd).display;\n",
              "        if (!display || display === 'none') {{\n",
              "            console.log([gd, 'removed!']);\n",
              "            Plotly.purge(gd);\n",
              "            observer.disconnect();\n",
              "        }}\n",
              "}});\n",
              "\n",
              "// Listen for the removal of the full notebook cells\n",
              "var notebookContainer = gd.closest('#notebook-container');\n",
              "if (notebookContainer) {{\n",
              "    x.observe(notebookContainer, {childList: true});\n",
              "}}\n",
              "\n",
              "// Listen for the clearing of the current output cell\n",
              "var outputEl = gd.closest('.output');\n",
              "if (outputEl) {{\n",
              "    x.observe(outputEl, {childList: true});\n",
              "}}\n",
              "\n",
              "                        })                };                            </script>        </div>\n",
              "</body>\n",
              "</html>"
            ]
          },
          "metadata": {}
        }
      ]
    },
    {
      "cell_type": "markdown",
      "source": [
        "And now, the MSE:"
      ],
      "metadata": {
        "id": "-4MBVRDU8TaJ"
      }
    },
    {
      "cell_type": "code",
      "source": [
        "correct_labels = new_data['rescues_last_year']\n",
        "predicted = model.predict(new_data['weight_last_year'])\n",
        "\n",
        "MSE = mse(correct_labels, predicted)\n",
        "print('MSE = %f ' % MSE)"
      ],
      "metadata": {
        "colab": {
          "base_uri": "https://localhost:8080/"
        },
        "id": "7wDt3GY08T1x",
        "outputId": "4142513e-e516-4fc3-9f73-4e1b88389a8e"
      },
      "execution_count": 12,
      "outputs": [
        {
          "output_type": "stream",
          "name": "stdout",
          "text": [
            "MSE = 20.406905 \n"
          ]
        }
      ]
    },
    {
      "cell_type": "markdown",
      "source": [
        "As expected, the model performs better on the training dataset as it does on the unseen dataset. This is simply due to overfitting, as we noted previously.\n",
        "\n",
        "Interestingly, the model performs better on this unseen dataset than it does on the _test set_. This is because our previous test set was quite small, and thus not a very good representation of real-world data. By contrast, this unseen dataset is large and a much better representation of data we'll find outside of the lab. In essence, this shows us that part of performance difference we see between training and test is due to model overfitting, and part of the error is due to the test set not being perfect. In the next exercises, we'll explore the trade-off we have to make between training and test dataset sizes.\n",
        "\n",
        "# Summary\n",
        "\n",
        "In this exercise, we covered the following concepts:\n",
        "\n",
        " - Splitting a dataset into a _training set_ and a _test set_\n",
        " - Training a model using the _training set_ and testing its performance on the _training set_, _test set_, and on a new, unseen dataset\n",
        " - Compared the respective MSEs to highlight the effects and dangers of _overfitting_\n"
      ],
      "metadata": {
        "id": "KemgxNYM8lqY"
      }
    }
  ]
}